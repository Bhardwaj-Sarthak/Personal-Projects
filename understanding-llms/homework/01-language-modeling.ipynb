{
  "cells": [
    {
      "cell_type": "markdown",
      "metadata": {
        "id": "OEMnDE8zRDrs"
      },
      "source": [
        "# Homework 1: Language models (58 points)\n",
        "\n",
        "The first homework focuses on the following skills: being able to work with concpetual & formal exercises on language modeling and neural networks, understanding configurations of state-of-the-art language models and, finally, fine-tuning a language model yourself!\n",
        "\n",
        "### Logistics\n",
        "\n",
        "* submission deadline: May 13th 23:59 German time via Moodle\n",
        "  * please upload a **SINGLE ZIP FILE named Surname_FirstName_HW1.zip** containing the .ipynb file of the notebook (if you solve it on Colab, you can go to File > download).\n",
        "* please make sure to **KEEP** the outputs of your notebook cells where needed, so that we can inspect them.\n",
        "* please solve and submit the homework **individually**!\n",
        "* if you use Colab, to speed up the execution of the code on Colab (especially Exercise 3), you can use the available GPU (if Colab resources allow). For that, before executing your code, navigate to Runtime > Change runtime type > GPU > Save."
      ]
    },
    {
      "cell_type": "markdown",
      "metadata": {
        "id": "qR9l-1kLRDrw"
      },
      "source": [
        "## Exercise 1: Understanding language modeling (12 points)\n",
        "\n",
        "Please answer the following exercises. Importantly, please reason step by step; i.e., where calculations are required, please provide intermediate steps of how you arrived at your solution. You do not need to write any code, just mathematical solutions.\n",
        "\n",
        "> 1. [6pts] Consider the corpus $C$ with the following sentences: $C=${\"The cat sneezes\", \"The bird sings\", \"The cat sneezes\", \"A dog sings\"}.\n",
        "> (a) Define the vocabulary $V$ of this corpus (assuming by-word tokenization).\n",
        "> (b) Pick one of the four sentences in $C$. Formulate the probability of that sentence in the form of the chain rule. Calculate the probability of each termn in the chain rule, given the corpus (assuming that there is, additionally, a start-of-sequence and an end-of-sequence token).\n",
        "> 2. [4pts] We want to train a neural network that takes as input two numbers $x_1, x_2$, passes them through three hidden linear layers, each with 13 neurons, each followed by the ReLU activation function, and outputs three numbers $y_1, y_2, y_3$. Write down all weight matrices of this network with their dimensions. (Example: if one weight matrix has the dimensions 3x5, write $M_1\\in R^{3\\times5}$)\n",
        "> 3. [2pts] Consider the sequence: \"Input: Some students trained each language model\". Assuming that each word+space/punctuation corresponds to one token, consider the following token probabilities of this sequence under some trained language model: $p = [0.67, 0.91, 0.83, 0.40, 0.29, 0.58, 0.75]$. Compute the average surprisal of this sequence under that language model. [Note: in this class we always assume the base $e$ for $log$, unless indicated otherwise. This is also usually the case throughout NLP.]"
      ]
    },
    {
      "cell_type": "markdown",
      "source": [],
      "metadata": {
        "id": "65Z3B7u6VkvD"
      }
    },
    {
      "cell_type": "markdown",
      "metadata": {
        "id": "YGXwGq2NRDrw"
      },
      "source": [
        "## Exercise 2: Understanding LLM configuration (8 points)\n",
        "\n",
        "For this task, your job is to understand the configrations of a state-of-the-art transformer, provided in a `config.json` file for allowing to initialize a transformer through the function `AutoModelForCausalLM.from_pretrained()` witin the `transformers` library. This file contains meta-information about the parameter configurations of the transformer.\n",
        "\n",
        "Your task is to:\n",
        "1. explain what each line of the following config provides. Please write a commend above the line explaining what the following parameter is.\n",
        "2. modify the config so that the transformer would use a context window size of 1024, 12 attention heads, and a ReLU activation function."
      ]
    },
    {
      "cell_type": "code",
      "execution_count": null,
      "metadata": {
        "id": "jjeQu6pwRDrx"
      },
      "outputs": [],
      "source": [
        "{\n",
        "  \"attention_bias\": false,\n",
        "  \"attention_dropout\": 0.0,\n",
        "  \"bos_token_id\": 100257,\n",
        "  \"eos_token_id\": 100257,\n",
        "  \"hidden_act\": \"silu\",\n",
        "  \"hidden_size\": 5120,\n",
        "  \"initializer_range\": 0.02,\n",
        "  \"intermediate_size\": 27648,\n",
        "  \"max_position_embeddings\": 4096,\n",
        "  \"num_attention_heads\": 40,\n",
        "  \"num_hidden_layers\": 64,\n",
        "  \"num_key_value_heads\": 8,\n",
        "  \"pad_token_id\": 100277,\n",
        "  \"rms_norm_eps\": 1e-06,\n",
        "  \"rope_scaling\": null,\n",
        "  \"rope_theta\": 500000,\n",
        "  \"tie_word_embeddings\": false,\n",
        "  \"torch_dtype\": \"float32\",\n",
        "  \"use_cache\": true,\n",
        "  \"vocab_size\": 100352\n",
        "}"
      ]
    },
    {
      "cell_type": "code",
      "source": [
        "{  # Whether to use a bias in the attention calculation.\n",
        "  \"attention_bias\": false,\n",
        "  # Dropout rate applied to the attention weights.\n",
        "  \"attention_dropout\": 0.0,\n",
        "  # ID of the beginning-of-sequence token.\n",
        "  \"bos_token_id\": 100257,\n",
        "  # ID of the end-of-sequence token.\n",
        "  \"eos_token_id\": 100257,\n",
        "  # Activation function used in the hidden layers.\n",
        "  \"hidden_act\": \"silu\",\n",
        "  # change this to \"Relu\"\n",
        "\n",
        "  # Dimensionality of the hidden layers.\n",
        "  \"hidden_size\": 5120,\n",
        "  # Standard deviation of the weight initialization.\n",
        "  \"initializer_range\": 0.02,\n",
        "  # Dimensionality of the \"intermediate\" (feed-forward) layer in the transformer block.\n",
        "  \"intermediate_size\": 27648,\n",
        "  # Maximum sequence length the model can handle.\n",
        "  \"max_position_embeddings\": 4096,\n",
        "\n",
        "  # Change this to 1024\n",
        "\n",
        "  # Number of attention heads.\n",
        "  \"num_attention_heads\": 40,\n",
        "  # Change this to 12\n",
        "\n",
        "  # Number of hidden layers in the transformer.\n",
        "  \"num_hidden_layers\": 64,\n",
        "  # Number of key-value heads in the attention mechanism.\n",
        "  \"num_key_value_heads\": 8,\n",
        "  # ID of the padding token.\n",
        "  \"pad_token_id\": 100277,\n",
        "  # Epsilon value used in the root mean square normalization.\n",
        "  \"rms_norm_eps\": 1e-06,\n",
        "  # Scaling factor for the rotary position embeddings (RoPE).\n",
        "  \"rope_scaling\": \"null\",\n",
        "  # Theta value for the rotary position embeddings (RoPE).\n",
        "  \"rope_theta\": 500000,\n",
        "  # Whether to tie the input and output word embeddings.\n",
        "  \"tie_word_embeddings\": False,\n",
        "  # Data type used for the model's parameters.\n",
        "  \"torch_dtype\": \"float32\",\n",
        "  # Whether to use caching during inference.\n",
        "  \"use_cache\": True,\n",
        "  # Size of the model's vocabulary.\n",
        "    \"vocab_size\": 100352 }"
      ],
      "metadata": {
        "id": "-J0snV6gT19O"
      },
      "execution_count": null,
      "outputs": []
    },
    {
      "cell_type": "markdown",
      "metadata": {
        "id": "VHMpmSttRDry"
      },
      "source": [
        "## Exercise 3 (15 points):\n",
        "\n",
        "In the lecture, we have extensively covered a core component of the transformer -- the self-attention calculation in the forward pass.\n",
        "In this exercise, your task is to perform the forward pass steps 1-6.i (i.e., up to, excluding, the forward step) from the exercise sheet assuming that the transformer has *a second* attention heads, where the second attention head has the following weight matrices:"
      ]
    },
    {
      "cell_type": "code",
      "execution_count": 26,
      "metadata": {
        "id": "9DX6RgABRDrz"
      },
      "outputs": [],
      "source": [
        "import torch\n",
        "Q_2 = [[0.5, 1, 1], [2, 0, 0.2], [3, 2, 0]]\n",
        "K_2 = [[0.1, 0.5, 1], [0.5, 1, 1], [2, 2, 2]]\n",
        "V_2 = [[1, 0.1, 0.3], [0, 3, 0.5], [1, 1, 1]]"
      ]
    },
    {
      "cell_type": "code",
      "source": [
        "Q_2=torch.tensor(Q_2)\n",
        "K_2=torch.tensor(K_2)\n",
        "V_2=torch.tensor(V_2)\n",
        "I=[[1,0,0,0,0,0,0,0,0,0],\n",
        "   [0,0,0,1,0,0,0,0,0,0],\n",
        "   [0,0,0,0,0,0,1,0,0,0],\n",
        "   [0,0,0,0,0,0,0,1,0,0],\n",
        "   [0,0,1,0,0,0,0,0,0,0]]\n",
        "E=[[0,1,2],\n",
        "   [6,7,1],\n",
        "   [3,4,5],\n",
        "   [0,2,1],\n",
        "   [1,3,0],\n",
        "   [3,8,6],\n",
        "   [2,7,5],\n",
        "   [6,2,1],\n",
        "   [9,1,3],\n",
        "   [0,1,1]]\n",
        "I=torch.tensor(I,dtype=torch.float32)\n",
        "E=torch.tensor(E,dtype=torch.float32)\n",
        "print(I.size())\n",
        "print(E.size())\n",
        "X= torch.matmul(I,E)\n",
        "print(X)\n",
        "X_q2=torch.matmul(X,Q_2)\n",
        "print('X*Q2')\n",
        "print(X_q2)\n",
        "X_k2=torch.matmul(X,K_2)\n",
        "print('X*K2')\n",
        "print(X_k2)\n",
        "X_v2=torch.matmul(X,V_2)\n",
        "print('X*V2')\n",
        "print(X_v2)\n",
        "S=torch.tensordot(X_q2,X_k2.T,dims=1)\n",
        "print('S=(X*Q2)(X*K2).T')\n",
        "print(S)\n",
        "A=[[0,-torch.inf,-torch.inf,-torch.inf,-torch.inf],\n",
        "   [0,0,-torch.inf,-torch.inf,-torch.inf],\n",
        "   [0,0,0,-torch.inf,-torch.inf,],\n",
        "   [0,0,0,0,-torch.inf],\n",
        "   [0,0,0,0,0]]\n",
        "A=torch.tensor(A,dtype=torch.float32)\n",
        "print('Mask')\n",
        "print(A)\n",
        "S_A=S+A\n",
        "print(S_A)\n",
        "print('Softmax')\n",
        "z=torch.softmax(S_A,dim=1)\n",
        "print(z)"
      ],
      "metadata": {
        "id": "C1jhto_nzfC-",
        "outputId": "9f0d90e2-a666-4bf1-c81b-e4f78404b619",
        "colab": {
          "base_uri": "https://localhost:8080/"
        }
      },
      "execution_count": 29,
      "outputs": [
        {
          "output_type": "stream",
          "name": "stdout",
          "text": [
            "torch.Size([5, 10])\n",
            "torch.Size([10, 3])\n",
            "tensor([[0., 1., 2.],\n",
            "        [0., 2., 1.],\n",
            "        [2., 7., 5.],\n",
            "        [6., 2., 1.],\n",
            "        [3., 4., 5.]])\n",
            "X*Q2\n",
            "tensor([[ 8.0000,  4.0000,  0.2000],\n",
            "        [ 7.0000,  2.0000,  0.4000],\n",
            "        [30.0000, 12.0000,  3.4000],\n",
            "        [10.0000,  8.0000,  6.4000],\n",
            "        [24.5000, 13.0000,  3.8000]])\n",
            "X*K2\n",
            "tensor([[ 4.5000,  5.0000,  5.0000],\n",
            "        [ 3.0000,  4.0000,  4.0000],\n",
            "        [13.7000, 18.0000, 19.0000],\n",
            "        [ 3.6000,  7.0000, 10.0000],\n",
            "        [12.3000, 15.5000, 17.0000]])\n",
            "X*V2\n",
            "tensor([[ 2.0000,  5.0000,  2.5000],\n",
            "        [ 1.0000,  7.0000,  2.0000],\n",
            "        [ 7.0000, 26.2000,  9.1000],\n",
            "        [ 7.0000,  7.6000,  3.8000],\n",
            "        [ 8.0000, 17.3000,  7.9000]])\n",
            "S=(X*Q2)(X*K2).T\n",
            "tensor([[ 57.0000,  40.8000, 185.4000,  58.8000, 163.8000],\n",
            "        [ 43.5000,  30.6000, 139.5000,  43.2000, 123.9000],\n",
            "        [212.0000, 151.6000, 691.6000, 226.0000, 612.8000],\n",
            "        [117.0000,  87.6000, 402.6000, 156.0000, 355.8000],\n",
            "        [194.2500, 140.7000, 641.8500, 217.2000, 567.4500]])\n",
            "Mask\n",
            "tensor([[0., -inf, -inf, -inf, -inf],\n",
            "        [0., 0., -inf, -inf, -inf],\n",
            "        [0., 0., 0., -inf, -inf],\n",
            "        [0., 0., 0., 0., -inf],\n",
            "        [0., 0., 0., 0., 0.]])\n",
            "tensor([[ 57.0000,     -inf,     -inf,     -inf,     -inf],\n",
            "        [ 43.5000,  30.6000,     -inf,     -inf,     -inf],\n",
            "        [212.0000, 151.6000, 691.6000,     -inf,     -inf],\n",
            "        [117.0000,  87.6000, 402.6000, 156.0000,     -inf],\n",
            "        [194.2500, 140.7000, 641.8500, 217.2000, 567.4500]])\n",
            "Softmax\n",
            "tensor([[1.0000e+00, 0.0000e+00, 0.0000e+00, 0.0000e+00, 0.0000e+00],\n",
            "        [1.0000e+00, 2.4980e-06, 0.0000e+00, 0.0000e+00, 0.0000e+00],\n",
            "        [0.0000e+00, 0.0000e+00, 1.0000e+00, 0.0000e+00, 0.0000e+00],\n",
            "        [0.0000e+00, 0.0000e+00, 1.0000e+00, 0.0000e+00, 0.0000e+00],\n",
            "        [0.0000e+00, 0.0000e+00, 1.0000e+00, 0.0000e+00, 4.8807e-33]])\n"
          ]
        },
        {
          "output_type": "stream",
          "name": "stderr",
          "text": [
            "<ipython-input-29-07a0145be359>:1: UserWarning: To copy construct from a tensor, it is recommended to use sourceTensor.clone().detach() or sourceTensor.clone().detach().requires_grad_(True), rather than torch.tensor(sourceTensor).\n",
            "  Q_2=torch.tensor(Q_2)\n",
            "<ipython-input-29-07a0145be359>:2: UserWarning: To copy construct from a tensor, it is recommended to use sourceTensor.clone().detach() or sourceTensor.clone().detach().requires_grad_(True), rather than torch.tensor(sourceTensor).\n",
            "  K_2=torch.tensor(K_2)\n",
            "<ipython-input-29-07a0145be359>:3: UserWarning: To copy construct from a tensor, it is recommended to use sourceTensor.clone().detach() or sourceTensor.clone().detach().requires_grad_(True), rather than torch.tensor(sourceTensor).\n",
            "  V_2=torch.tensor(V_2)\n"
          ]
        }
      ]
    },
    {
      "cell_type": "markdown",
      "metadata": {
        "id": "SAkRoHh7RDrz"
      },
      "source": [
        "Your task is to submit a solution calculating the contextualized representations of this second attention head.\n",
        "Please make sure to include all the intermediate calculation steps and answer the following question:\n",
        "- How does the memory load of running inference with the transformer scale with the number of attention heads?\n",
        "\n",
        "You can submit a picture / scan of a hand-written, or type it in TeX -- up to you."
      ]
    },
    {
      "cell_type": "markdown",
      "metadata": {
        "id": "CwUNIUOlRDrz"
      },
      "source": [
        "## Exercise 4: Fine-tuning Pythia for Question Answering (23 points)\n",
        "\n",
        "The learning goal of this exercise is to practice fine-tuning a pretrained LM, Pythia-160M, for a particular task, namely commonsense question answering (QA). We will use a task-specific dataset, [CommonsenseQA](https://huggingface.co/datasets/tau/commonsense_qa), that was introduced by [Talmor et al. (2018)](https://arxiv.org/abs/1811.00937). We will evaluate the performance of the model on our test split of the dataset over training to monitor whether the model's performance is improving and compare the performance of the base pretrained Pythia model and the fine-tuned model. We will need to perform the following steps:\n",
        "\n",
        "1. Prepare data according to steps described in [sheet 1.1](https://cogsciprag.github.io/Understanding-LLMs-course/tutorials/01-introduction.html#main-training-data-processing-steps)\n",
        "   1. additionally to these steps, prepare a custom Dataset (like in [sheet 2.3](https://cogsciprag.github.io/Understanding-LLMs-course/tutorials/02c-MLP-pytorch.html#preparing-the-training-data)) that massages the dataset from the format that it is shipped in on HuggingFace into strings that can be used for training. Some of the procesing steps will happen in the Dataset.\n",
        "2. Load the pretrained Pythia-160m model\n",
        "3. Set up training pipeline according to steps described in [sheet 2.5]()\n",
        "4. Run the training for **200 steps**, while tracking the losses. This number of steps should be sufficient for being able to tell that your training is working *in principle*.\n",
        "5. Save plot of losses for submission"
      ]
    },
    {
      "cell_type": "markdown",
      "metadata": {
        "id": "nSGE98IjRDrz"
      },
      "source": [
        "Your tasks:\n",
        "> 1. [19pts] Complete the code in the spots where there is a comment \"#### YOUR CODE HERE ####\". There are instructions in the comments as to what the code should implement. With you completed code, you should be able to let the training run without errors. Note that the point of the exercise is the implementation; we should not necessarily expect great performance of the fine-tuned model (and the actual performance will *not* be graded). Often there are several correct ways of implementing something. Anything that is correct will be accepted.\n",
        "> 2. [4pts] Answer questions at the end of the execise."
      ]
    },
    {
      "cell_type": "code",
      "execution_count": null,
      "metadata": {
        "id": "7nt-jqzKRDr0",
        "outputId": "f6c1fbf9-aa62-4e40-ca29-0e85ed6dd7f1"
      },
      "outputs": [
        {
          "name": "stderr",
          "output_type": "stream",
          "text": [
            "/opt/anaconda3/envs/understanding_llms/lib/python3.10/site-packages/tqdm/auto.py:21: TqdmWarning: IProgress not found. Please update jupyter and ipywidgets. See https://ipywidgets.readthedocs.io/en/stable/user_install.html\n",
            "  from .autonotebook import tqdm as notebook_tqdm\n"
          ]
        }
      ],
      "source": [
        "# note: if you are on Colab, you might need to install some requirements\n",
        "# as we did in Sheet 1.1. Otherwise, don't forget to activate your local environment\n",
        "\n",
        "from datasets import load_dataset\n",
        "from transformers import AutoTokenizer, AutoModelForCausalLM, GPT2Tokenizer, GPT2LMHeadModel, DataCollatorForLanguageModeling\n",
        "import torch\n",
        "from torch.utils.data import DataLoader\n",
        "from torch.utils.data import Dataset\n",
        "import numpy as np\n",
        "import matplotlib.pyplot as plt\n",
        "from tqdm import tqdm"
      ]
    },
    {
      "cell_type": "code",
      "execution_count": null,
      "metadata": {
        "id": "CGavILyCRDr0"
      },
      "outputs": [],
      "source": [
        "# additioanlly, we need to install accelerate\n",
        "# uncomment and run the following line on Colab or in your environment\n",
        "# !pip install accelerate\n",
        "# NOTE: in a notebook, reloading of the kernel might be required after installation if you get dependency errors with the transformers package"
      ]
    },
    {
      "cell_type": "code",
      "execution_count": null,
      "metadata": {
        "id": "APgwdMTjRDr0"
      },
      "outputs": [],
      "source": [
        "### 1. Prepare data with data prepping steps from sheet 1.1\n",
        "\n",
        "# a. Acquiring data\n",
        "# b. (minimally) exploring dataset\n",
        "# c. cleaning / wrangling data (combines step 4 from sheet 1.1 and step 1.1 above)\n",
        "# d. splitting data into training and validation set (we will not do any hyperparameter tuning)\n",
        "# (we don't need further training set wrangling)\n",
        "# e. tokenizing data and making sure it can be batched (i.e., conversted into 2d tensors)\n",
        "# this will also happen in our custom Dataset class (common practice when working with text data)"
      ]
    },
    {
      "cell_type": "code",
      "execution_count": null,
      "metadata": {
        "id": "LI_hQQ-aRDr0"
      },
      "outputs": [],
      "source": [
        "# downaload dataset from HF\n",
        "dataset = load_dataset(\"tau/commonsense_qa\")"
      ]
    },
    {
      "cell_type": "code",
      "execution_count": null,
      "metadata": {
        "id": "BI-2hd7yRDr1",
        "outputId": "e9dc87d9-1ecb-46d1-f1ad-02dbf9d383fc"
      },
      "outputs": [
        {
          "name": "stdout",
          "output_type": "stream",
          "text": [
            "dict_keys(['train', 'validation', 'test'])\n"
          ]
        }
      ],
      "source": [
        "# inspect dataset\n",
        "print(dataset.keys())\n",
        "# print a sample from the dataset\n",
        "### YOUR CODE HERE ####"
      ]
    },
    {
      "cell_type": "markdown",
      "metadata": {
        "id": "fsM4JrJtRDr1"
      },
      "source": [
        "Note that the test split provided with the dataset does not have ground truth answer labels. Therefore, we will only use the validation split to asssess the performance of our model."
      ]
    },
    {
      "cell_type": "code",
      "execution_count": null,
      "metadata": {
        "id": "CtMrA_Q9RDr1"
      },
      "outputs": [],
      "source": [
        "# load tokenizer\n",
        "tokenizer = AutoTokenizer.from_pretrained(\"EleutherAI/pythia-160m\")\n",
        "tokenizer.pad_token = tokenizer.eos_token\n",
        "# set padding side to be left because we are doing causal LM\n",
        "tokenizer.padding_side = \"left\""
      ]
    },
    {
      "cell_type": "code",
      "execution_count": null,
      "metadata": {
        "id": "MbdaSL_iRDr1"
      },
      "outputs": [],
      "source": [
        "def massage_input_text(example):\n",
        "    \"\"\"\n",
        "    Helper for converting input examples which have\n",
        "    a separate qquestion, labels, answer options\n",
        "    into a single string.\n",
        "\n",
        "    Arguments\n",
        "    ---------\n",
        "    example: dict\n",
        "        Sample input from the dataset which contains the\n",
        "        question, answer labels (e.g. A, B, C, D),\n",
        "        the answer options for the question, and which\n",
        "        of the answers is correct.\n",
        "\n",
        "    Returns\n",
        "    -------\n",
        "    input_text: str\n",
        "        Formatted training text which contains the question,\n",
        "        the forwatted answer options (e.g., 'A. <option 1> B. <option 2>' etc)\n",
        "        and the ground truth answer.\n",
        "    \"\"\"\n",
        "    # combine each label with its corresponding text\n",
        "    answer_options_list = list(zip(\n",
        "        example[\"choices\"][\"label\"],\n",
        "        example[\"choices\"][\"text\"]\n",
        "    ))\n",
        "    # join each label and text with . and space\n",
        "    answer_options = ### YOUR CODE HERE ####\n",
        "    # join the list of options with spaces into single string\n",
        "    answer_options_string = ### YOUR CODE HERE ####\n",
        "    # combine question and answer options\n",
        "    input_text = example[\"question\"] + \" \" + answer_options_string\n",
        "    # append the true answer with a new line, \"Answer: \" and the label\n",
        "    input_text += \"\\nAnswer: \" + example[\"answerKey\"]\n",
        "\n",
        "    return input_text\n",
        "\n",
        "# process input texts of train and validation sets\n",
        "massaged_datasets = dataset.map(\n",
        "    lambda example: {\n",
        "        \"text\": massage_input_text(example)\n",
        "    }\n",
        ")\n"
      ]
    },
    {
      "cell_type": "code",
      "execution_count": null,
      "metadata": {
        "id": "NkWKMZlLRDr1"
      },
      "outputs": [],
      "source": [
        "# inspect a sample from our preprocessed data\n",
        "massaged_datasets[\"train\"][0]"
      ]
    },
    {
      "cell_type": "code",
      "execution_count": null,
      "metadata": {
        "id": "7T1boQNtRDr1"
      },
      "outputs": [],
      "source": [
        "def tokenize(tokenizer, example):\n",
        "    \"\"\"\n",
        "    Helper for pre-tokenizing all examples.\n",
        "    \"\"\"\n",
        "    tokenized = tokenizer(\n",
        "        example[\"text\"],\n",
        "        # we are fixing the length to 64 tokens to avoid memory issues\n",
        "        max_length=64,\n",
        "        padding=\"max_length\",\n",
        "        truncation=True,\n",
        "        return_tensors=\"pt\",\n",
        "    )\n",
        "    return tokenized\n",
        "\n",
        "tokenized_dataset = massaged_datasets.map(\n",
        "    lambda example: ### YOUR CODE HERE ####\n",
        "    batched=True,\n",
        "    remove_columns= ### YOUR CODE HERE ####\n",
        ")"
      ]
    },
    {
      "cell_type": "code",
      "execution_count": null,
      "metadata": {
        "id": "ty8XbQHZRDr1"
      },
      "outputs": [],
      "source": [
        "# move to accelerated device\n",
        "if torch.cuda.is_available():\n",
        "    device = torch.device(\"cuda\")\n",
        "    print(f\"Device: {device}\")\n",
        "elif torch.backends.mps.is_available():\n",
        "    device = torch.device(\"mps\")\n",
        "    print(f\"Device: {device}\")\n",
        "else:\n",
        "    device = torch.device(\"cpu\")\n",
        "    print(f\"Device: {device}\")\n"
      ]
    },
    {
      "cell_type": "code",
      "execution_count": null,
      "metadata": {
        "id": "4YY0r-CLRDr1"
      },
      "outputs": [],
      "source": [
        "# 2. init model\n",
        "\n",
        "# load pretrained Pythia-160M for HF\n",
        "model = ### YOUR CODE HERE ####\n",
        "# print num of trainable parameters\n",
        "model_size = sum(t.numel() for t in model.parameters())\n",
        "print(f\"Pythia-160m size: {model_size/1000**2:.1f}M parameters\")"
      ]
    },
    {
      "cell_type": "markdown",
      "metadata": {
        "id": "PMzt3ooKRDr1"
      },
      "source": [
        "Hint: If you run out of memory while trying to run the training, try decreasing the batch size."
      ]
    },
    {
      "cell_type": "code",
      "execution_count": null,
      "metadata": {
        "id": "z9DxMLLURDr1"
      },
      "outputs": [],
      "source": [
        "# 3. set up configurations required for the training loop\n",
        "\n",
        "# instantiate tokenized train dataset\n",
        "train_dataset = ### YOUR CODE HERE ####\n",
        "\n",
        "# instantiate tokenized validation dataset\n",
        "validation_dataset = ### YOUR CODE HERE ####,\n",
        "\n",
        "# instantiate a data collator\n",
        "collate_fn = DataCollatorForLanguageModeling(\n",
        "    tokenizer=### YOUR CODE HERE ####,\n",
        "    mlm=False\n",
        ")\n",
        "# create a DataLoader for the dataset\n",
        "# the data loader will automatically batch the data\n",
        "# and iteratively return training examples (question answer pairs) in batches\n",
        "dataloader = DataLoader(\n",
        "    train_dataset,\n",
        "    batch_size=16,\n",
        "    shuffle=True,\n",
        "    collate_fn=collate_fn,\n",
        ")\n",
        "# create a DataLoader for the test dataset\n",
        "# reason for separate data loader is that we want to\n",
        "# be able to use a different index for retreiving the test batches\n",
        "# we might also want to use a different batch size etc.\n",
        "validation_dataloader = DataLoader(\n",
        "    validation_dataset,\n",
        "    batch_size=16,\n",
        "    shuffle=True,\n",
        "    collate_fn=collate_fn\n",
        ")"
      ]
    },
    {
      "cell_type": "code",
      "execution_count": null,
      "metadata": {
        "id": "V0-zMus9RDr1"
      },
      "outputs": [],
      "source": [
        "# 4. run the training of the model\n",
        "# Hint: for implementing the forward pass and loss computation, carefully look at the exercise sheets\n",
        "# and the links to examples in HF tutorials.\n",
        "\n",
        "# put the model in training mode\n",
        "model.train()\n",
        "# move the model to the device (e.g. GPU)\n",
        "model = model.to(device)\n",
        "\n",
        "# trianing configutations\n",
        "# feel free to play around with these\n",
        "epochs  = 1\n",
        "train_steps =  ### YOUR CODE HERE ###\n",
        "print(\"Number of training steps: \", train_steps)\n",
        "# number of validation steps to perform every 10 training steps\n",
        "# (smaller than the entire validation split for reasons of comp. time)\n",
        "num_test_steps = 5\n",
        "\n",
        "# define optimizer and learning rate\n",
        "optimizer = torch.optim.AdamW(model.parameters(), lr=5e-4)\n",
        "# define some variables to accumulate the losses\n",
        "losses = []\n",
        "validation_losses = []\n",
        "\n",
        "# iterate over epochs\n",
        "for e in range(epochs):\n",
        "    # iterate over training steps\n",
        "    for i in tqdm(range(train_steps)):\n",
        "        # get a batch of data\n",
        "        x = next(iter(dataloader))\n",
        "        # move the data to the device (GPU)\n",
        "        x = ### YOUR CODE HERE ####\n",
        "\n",
        "        # forward pass through the model\n",
        "        ### YOUR CODE HERE ###\n",
        "        outputs = model(\n",
        "            ### YOUR CODE HERE ####\n",
        "        )\n",
        "        # get the loss\n",
        "        loss = ### YOUR CODE HERE ####\n",
        "        # backward pass\n",
        "        ### YOUR CODE HERE ####\n",
        "        losses.append(loss.item())\n",
        "        # update the parameters of the model\n",
        "        ### YOUR CODE HERE ###\n",
        "\n",
        "        # zero out gradient for next step\n",
        "        ### YOUR CODE HERE ####\n",
        "\n",
        "        # evaluate on a few steps of validation set every 10 steps\n",
        "        if i % 10 == 0:\n",
        "            print(f\"Epoch {e}, step {i}, loss {loss.item()}\")\n",
        "            # track test loss for the evaluation iteration\n",
        "            val_loss = 0\n",
        "            for j in range(num_test_steps):\n",
        "                # get test batch\n",
        "                x_test = next(iter(validation_dataloader))\n",
        "                x_test = x_test.to(device)\n",
        "                with torch.no_grad():\n",
        "                    test_outputs = model(\n",
        "                        ### YOUR CODE HERE ####\n",
        "                    )\n",
        "                val_loss += ### YOUR CODE HERE ####\n",
        "\n",
        "            validation_losses.append(val_loss / num_test_steps)\n",
        "            print(\"Test loss: \", val_loss/num_test_steps)"
      ]
    },
    {
      "cell_type": "code",
      "execution_count": null,
      "metadata": {
        "id": "qxKD48PKRDr1"
      },
      "outputs": [],
      "source": [
        "# 5. Plot the fine-tuning loss and MAKE SURE TO SAVE IT AND SUBMIT IT\n",
        "\n",
        "# plot training losses on x axis\n",
        "plt.plot(### YOUR CODE HERE ####)\n",
        "plt.xlabel(\"Training steps\")\n",
        "plt.ylabel(\"Loss\")"
      ]
    },
    {
      "cell_type": "code",
      "execution_count": null,
      "metadata": {
        "id": "pmDTlXDMRDr1"
      },
      "outputs": [],
      "source": [
        "# print a few predictions on the eval dataset to see what the model predicts\n",
        "\n",
        "# construct a list of questions without the ground truth label\n",
        "# and compare prediction of the model with the ground truth\n",
        "\n",
        "def construct_test_samples(example):\n",
        "    \"\"\"\n",
        "    Helper for converting input examples which have\n",
        "    a separate qquestion, labels, answer options\n",
        "    into a single string for testing the model.\n",
        "\n",
        "    Arguments\n",
        "    ---------\n",
        "    example: dict\n",
        "        Sample input from the dataset which contains the\n",
        "        question, answer labels (e.g. A, B, C, D),\n",
        "        the answer options for the question, and which\n",
        "        of the answers is correct.\n",
        "\n",
        "    Returns\n",
        "    -------\n",
        "    input_text: str, str\n",
        "        Tuple: Formatted test text which contains the question,\n",
        "        the forwatted answer options (e.g., 'A. <option 1> B. <option 2>' etc);\n",
        "        the ground truth answer label only.\n",
        "    \"\"\"\n",
        "\n",
        "    answer_options_list = list(zip(\n",
        "        example[\"choices\"][\"label\"],\n",
        "        example[\"choices\"][\"text\"]\n",
        "    ))\n",
        "    # join each label and text with . and space\n",
        "    answer_options = ### YOUR CODE HERE ####\n",
        "    # join the list of options with spaces into single string\n",
        "    answer_options_string = ### YOUR CODE HERE ####\n",
        "    # combine question and answer options\n",
        "    input_text = example[\"question\"] + \" \" + answer_options_string\n",
        "    # create the test input text which should be:\n",
        "    # the input text, followed by the string \"Answer: \"\n",
        "    # we don't need to append the ground truth answer since we are creating test inputs\n",
        "    # and the answer should be predicted.\n",
        "    input_text += ### YOUR CODE HERE ####\n",
        "\n",
        "    return input_text, example[\"answerKey\"]\n",
        "\n",
        "test_samples = [construct_test_samples(dataset[\"validation\"][i]) for i in range(10)]\n",
        "test_samples"
      ]
    },
    {
      "cell_type": "code",
      "execution_count": null,
      "metadata": {
        "id": "F8m4uknxRDr1"
      },
      "outputs": [],
      "source": [
        "# Test the model\n",
        "\n",
        "# set it to evaluation mode\n",
        "model.eval()\n",
        "\n",
        "predictions = []\n",
        "for sample in test_samples:\n",
        "    input_text = sample[0]\n",
        "    input_ids = tokenizer(input_text, return_tensors=\"pt\").to(device)\n",
        "    output = model.generate(\n",
        "        input_ids.input_ids,\n",
        "        attention_mask = input_ids.attention_mask,\n",
        "        max_new_tokens=2,\n",
        "        do_sample=True,\n",
        "        temperature=0.4,\n",
        "    )\n",
        "    prediction = tokenizer.decode(output[0], skip_special_tokens=True)\n",
        "    predictions.append((input_text, prediction, sample[1]))\n",
        "\n",
        "print(\"Predictions of trained model \", predictions)"
      ]
    },
    {
      "cell_type": "markdown",
      "metadata": {
        "id": "I63tf04XRDr2"
      },
      "source": [
        "Questions:\n",
        "> 1. Provide a brief description of the CommonsenseQA dataset. What kind of task was it developed for, what do the single columns contain?\n",
        "> 2. What loss function is computed for this training? Provide the name of the function (conceptual, not necessarily the name of a function in the code).\n",
        "> 3. Given your loss curve, do you think your model will perform well on answering common sense questions? (Note: there is no single right answer; you need to interpret your specific plot)\n",
        "> 4. Inspect the predictions above. On how many test questions did the model predict the right answer? Compute the accuracy."
      ]
    },
    {
      "cell_type": "markdown",
      "metadata": {
        "id": "tm4pVv6ORDr2"
      },
      "source": []
    }
  ],
  "metadata": {
    "kernelspec": {
      "display_name": "understanding_llms",
      "language": "python",
      "name": "python3"
    },
    "language_info": {
      "codemirror_mode": {
        "name": "ipython",
        "version": 3
      },
      "file_extension": ".py",
      "mimetype": "text/x-python",
      "name": "python",
      "nbconvert_exporter": "python",
      "pygments_lexer": "ipython3",
      "version": "3.10.14"
    },
    "colab": {
      "provenance": []
    }
  },
  "nbformat": 4,
  "nbformat_minor": 0
}