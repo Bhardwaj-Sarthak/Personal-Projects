{
  "cells": [
    {
      "cell_type": "markdown",
      "metadata": {
        "id": "R4lQf8cytuDt"
      },
      "source": [
        "Sheet 2.4: Character-level sequence modeling w/ RNNs\n",
        "====================================================\n",
        "\n",
        "**Author:** Michael Franke\n",
        "\n"
      ]
    },
    {
      "cell_type": "markdown",
      "metadata": {
        "id": "l7H3vaBvtuDw"
      },
      "source": [
        "The goal of this tutorial is to get familiar with simple language models.\n",
        "To be able to have a manageable (quick to train, evaluate, inspect) case study, we look at character-level predictions of surnames from different languages.\n",
        "(The inspiration and source of this notebook is [this tutorial](https://pytorch.org/tutorials/intermediate/char_rnn_generation_tutorial.html) from PyTorch&rsquo;s documentation.)\n",
        "\n"
      ]
    },
    {
      "cell_type": "markdown",
      "metadata": {
        "id": "6uZe4afotuDw"
      },
      "source": [
        "## Packages & global parameters\n",
        "\n"
      ]
    },
    {
      "cell_type": "markdown",
      "metadata": {
        "id": "rgfLLmiZtuDw"
      },
      "source": [
        "In addition to the usual packages for neural network modeling, we will also require packages for I/O and string handling.\n",
        "\n"
      ]
    },
    {
      "cell_type": "code",
      "execution_count": 1,
      "metadata": {
        "id": "4PP7UR_etuDx"
      },
      "outputs": [],
      "source": [
        "##################################################\n",
        "## import packages\n",
        "##################################################\n",
        "\n",
        "from __future__ import unicode_literals, print_function, division\n",
        "import json\n",
        "import pandas\n",
        "import string\n",
        "import torch\n",
        "import urllib.request\n",
        "import numpy as np\n",
        "import torch.nn as nn\n",
        "import random\n",
        "import time\n",
        "import math\n",
        "import matplotlib.pyplot as plt\n",
        "import warnings\n",
        "\n",
        "warnings.filterwarnings(\"ignore\")"
      ]
    },
    {
      "cell_type": "markdown",
      "metadata": {
        "id": "Tnu5Fy98tuDx"
      },
      "source": [
        "## Loading & inspecting the data\n",
        "\n"
      ]
    },
    {
      "cell_type": "markdown",
      "metadata": {
        "id": "lbVdS6sOtuDx"
      },
      "source": [
        "Our training data are lists of surnames from different countries.\n",
        "We will use this data set to train a model that predicts a name, given the country as a prompt.\n",
        "\n",
        "The (pre-processed) data is stored in a JSON file.\n",
        "We load it and define a few useful variables for later use.\n",
        "\n"
      ]
    },
    {
      "cell_type": "code",
      "execution_count": 2,
      "metadata": {
        "id": "N3RxJ8PntuDy"
      },
      "outputs": [],
      "source": [
        "\n",
        "##################################################\n",
        "## read and inspect the data\n",
        "##################################################\n",
        "with urllib.request.urlopen(\n",
        "    \"https://raw.githubusercontent.com/michael-franke/npNLG/main/neural_pragmatic_nlg/05-RNNs/names-data.json\"\n",
        ") as url:\n",
        "    names_data = json.load(url)\n",
        "\n",
        "# # local import\n",
        "# with open('names-data.json') as dataFile:\n",
        "#     names_data = json.load(dataFile)\n",
        "\n",
        "categories = list(names_data.keys())\n",
        "n_categories = len(categories)\n",
        "\n",
        "# Use all ASCII letters as vocabulary (plus tokens [EOS], [SOS])\n",
        "all_letters = string.ascii_letters + \" .,;'-\"\n",
        "n_letters = len(all_letters) + 2  # all letter + [EOS] and [SOS]\n",
        "SOSIndex = n_letters - 1\n",
        "EOSIndex = n_letters - 2\n"
      ]
    },
    {
      "cell_type": "markdown",
      "metadata": {
        "id": "QnfmSTiutuDy"
      },
      "source": [
        "The data consists of two things:\n",
        "a list of strings, called &ldquo;categories&rdquo;, contains all the categories (languages) for which we have data;\n",
        "a dictionary, called &ldquo;names_data&rdquo;, contains a list of names for each category.\n",
        "\n",
        "> <strong><span style=&ldquo;color:#D83D2B;&rdquo;>Exercise 2.4.1: Inspect the data</span></strong>\n",
        ">\n",
        "> 0. [Just for yourself.] Find out what&rsquo;s in the data set. How any different countries do we have? How many names per country? Are all names unique in a given country? Do the names sound typical to your ears for the given countries?\n",
        "\n"
      ]
    },
    {
      "cell_type": "markdown",
      "metadata": {
        "id": "S98EeEyftuDy"
      },
      "source": [
        "Click below to see the solution."
      ]
    },
    {
      "cell_type": "code",
      "execution_count": 3,
      "metadata": {
        "tags": [
          "hide-cell"
        ],
        "id": "73i7pyA4tuDy",
        "outputId": "f522e963-fd34-45f4-d7da-05727043a2fb",
        "colab": {
          "base_uri": "https://localhost:8080/"
        }
      },
      "outputs": [
        {
          "output_type": "stream",
          "name": "stdout",
          "text": [
            "yes\n",
            "Number of countries: 18\n",
            "\n",
            "Czech: 519\n",
            "German: 724\n",
            "Arabic: 2000\n",
            "Japanese: 991\n",
            "Chinese: 268\n",
            "Vietnamese: 73\n",
            "Russian: 9408\n",
            "French: 277\n",
            "Irish: 232\n",
            "English: 3668\n",
            "Spanish: 298\n",
            "Greek: 203\n",
            "Italian: 709\n",
            "Portuguese: 74\n",
            "Scottish: 100\n",
            "Dutch: 297\n",
            "Korean: 94\n",
            "Polish: 139\n",
            "False\n",
            "False\n",
            "False\n",
            "False\n",
            "False\n",
            "False\n",
            "False\n",
            "False\n",
            "False\n",
            "True\n",
            "False\n",
            "False\n",
            "False\n",
            "True\n",
            "True\n",
            "False\n",
            "True\n",
            "False\n"
          ]
        }
      ],
      "source": [
        "for c in names_data:\n",
        "    for name in names_data[c]:\n",
        "        if name == \"Bruckner\":\n",
        "            print(\"yes\")\n",
        "\n",
        "names_data\n",
        "\n",
        "# number of countries\n",
        "print(f\"Number of countries: {n_categories}\\n\")\n",
        "# number of names per country\n",
        "for country in names_data:\n",
        "    print(f\"{country}: {len(names_data[country])}\")\n",
        "\n",
        "# Unique names per country\n",
        "for country in names_data:\n",
        "    print(f\"{len(names_data[country]) == len(set(names_data[country]))}\")\n",
        "\n",
        "# ---> Most of the name lists contain duplicates."
      ]
    },
    {
      "cell_type": "markdown",
      "metadata": {
        "id": "GoQAUOYptuDz"
      },
      "source": [
        "## Train-test split\n",
        "\n"
      ]
    },
    {
      "cell_type": "markdown",
      "metadata": {
        "id": "aebdsVH0tuDz"
      },
      "source": [
        "We will split the data into a training and a test set.\n",
        "Look at the code and try to answer the exercise question of how this split is realized.\n",
        "\n"
      ]
    },
    {
      "cell_type": "code",
      "execution_count": 4,
      "metadata": {
        "id": "AxHixuZotuDz",
        "outputId": "bd19d4ff-aa93-4458-dd60-a549a2150b61",
        "colab": {
          "base_uri": "https://localhost:8080/"
        }
      },
      "outputs": [
        {
          "output_type": "stream",
          "name": "stdout",
          "text": [
            "Czech 519 467 52\n",
            "German 724 652 72\n",
            "Arabic 2000 1800 200\n",
            "Japanese 991 892 99\n",
            "Chinese 268 241 27\n",
            "Vietnamese 73 66 7\n",
            "Russian 9408 8467 941\n",
            "French 277 249 28\n",
            "Irish 232 209 23\n",
            "English 3668 3301 367\n",
            "Spanish 298 268 30\n",
            "Greek 203 183 20\n",
            "Italian 709 638 71\n",
            "Portuguese 74 67 7\n",
            "Scottish 100 90 10\n",
            "Dutch 297 267 30\n",
            "Korean 94 85 9\n",
            "Polish 139 125 14\n"
          ]
        }
      ],
      "source": [
        "##################################################\n",
        "## make a train/test split\n",
        "##################################################\n",
        "\n",
        "train_data = dict()\n",
        "test_data = dict()\n",
        "split_percentage = 10\n",
        "for k in list(names_data.keys()):\n",
        "    total_size = len(names_data[k])\n",
        "    test_size = round(total_size / split_percentage)\n",
        "    train_size = total_size - test_size\n",
        "    print(k, total_size, train_size, test_size)\n",
        "    indices = [i for i in range(total_size)]\n",
        "    random.shuffle(indices)\n",
        "    train_indices = indices[0:train_size]\n",
        "    test_indices = indices[(train_size + 1) : (-1)]\n",
        "    train_data[k] = [names_data[k][i] for i in train_indices]\n",
        "    test_data[k] = [names_data[k][i] for i in test_indices]"
      ]
    },
    {
      "cell_type": "markdown",
      "metadata": {
        "id": "oD7GcF5wtuDz"
      },
      "source": [
        "> <strong><span style=&ldquo;color:#D83D2B;&rdquo;>Exercise 2.4.2: Explain the train-test split</span></strong>\n",
        ">\n",
        "> 1. How is the original data information split into training and test set? (E.g., what amount of data is allocated to each part?; is the split exclusive and exhaustive?; how is it determined which item goes where?)\n",
        "\n"
      ]
    },
    {
      "cell_type": "markdown",
      "metadata": {
        "id": "fpLlAEtktuDz"
      },
      "source": [
        "Click below to see the solution."
      ]
    },
    {
      "cell_type": "markdown",
      "metadata": {
        "id": "JDYJEHiRtuDz"
      },
      "source": [
        "```{toggle}\n",
        "The dataset is split in training- and testset, where 90% are used for training and 10% for testing. The datapoints are shuffled before assignment and therefore randomly assigned. The split is both exclusive and exhaustive.\n",
        "```"
      ]
    },
    {
      "cell_type": "markdown",
      "metadata": {
        "id": "iuiFE1DgtuDz"
      },
      "source": [
        "## Defining the model\n",
        "\n"
      ]
    },
    {
      "cell_type": "markdown",
      "metadata": {
        "id": "qWydsxYktuDz"
      },
      "source": [
        "The model we use is a (hand-crafted) recurrent neural network.\n",
        "The architecture follows [this tutorial](https://pytorch.org/tutorials/intermediate/char_rnn_generation_tutorial.html), from where we also borrow the following picture:\n",
        "\n",
        "![img](https://github.com/CogSciPrag/Understanding-LLMs-course/blob/main/understanding-llms/tutorials/pics/05-RNN-diagram.png?raw=1){width=550px}\n",
        "\n",
        "The model makes consecutive predictions about the next character.\n",
        "It is conditioned on three vectors:\n",
        "\n",
        "1.  &rsquo;category&rsquo; is a one-hot vector encoding the country\n",
        "2.  &rsquo;input&rsquo; is a one-hot vector encoding the character\n",
        "3.  &rsquo;hidden&rsquo; is the RNN&rsquo;s hidden state (remembering what happened before)\n",
        "\n",
        "These vectors are first combined and then used to produce a next-character probability distribution *and* the hidden state to be fed into the next round of predictions.\n",
        "\n",
        "Next to the usual functions (initialization and forward pass), there is also a function that returns a blank &rsquo;hidden state&rsquo;.\n",
        "This will be used later during training and inference, because at the start of each application (training or inference) the RNN should have a blank memory.\n",
        "(It makes sense to include this function in the definition of the module because it depends on the module&rsquo;s parameters (size of the hidden layer).)\n",
        "\n",
        "Notice that the architecture features a dropout layer, which randomly sets a fixed proportion of units to 0.\n",
        "The inclusion of dropout introduces a random element in the model during training and inference.\n",
        "\n"
      ]
    },
    {
      "cell_type": "code",
      "execution_count": 5,
      "metadata": {
        "id": "PV0vfS4AtuDz"
      },
      "outputs": [],
      "source": [
        "##################################################\n",
        "## define RNN\n",
        "##################################################\n",
        "\n",
        "\n",
        "class RNN(nn.Module):\n",
        "    def __init__(self, input_size, hidden_size, output_size, dropout=0.1):\n",
        "        super(RNN, self).__init__()\n",
        "        self.hidden_size = hidden_size\n",
        "        self.i2h = nn.Linear(n_categories + input_size + hidden_size, hidden_size)\n",
        "        self.i2o = nn.Linear(n_categories + input_size + hidden_size, output_size)\n",
        "        self.o2o = nn.Linear(hidden_size + output_size, output_size)\n",
        "        self.relu = nn.ReLU()\n",
        "        self.dropout = nn.Dropout(dropout)\n",
        "        self.softmax = nn.LogSoftmax(dim=1) #nomalizes the scores that comes out of the hidden space and converts them to a probabiility (language mdoelling head)\n",
        "\n",
        "    def forward(self, category, input, hidden, dropout):\n",
        "        input_combined = torch.cat((category, input, hidden), 1)\n",
        "        hidden = self.i2h(input_combined)\n",
        "        output = self.i2o(input_combined)\n",
        "        output_combined = torch.cat((hidden, output), 1)\n",
        "        output_combined = self.relu(output_combined)\n",
        "        output = self.o2o(output_combined)\n",
        "        if dropout:\n",
        "            output = self.dropout(output)\n",
        "        output = self.softmax(output)\n",
        "        return output, hidden\n",
        "\n",
        "    def init_hidden(self):\n",
        "        return torch.zeros(1, self.hidden_size) #initial hidden vector definition for the first step"
      ]
    },
    {
      "cell_type": "markdown",
      "metadata": {
        "id": "xmEDnqBOtuD0"
      },
      "source": [
        "> <strong><span style=&ldquo;color:#D83D2B;&rdquo;>Exercise 2.4.3: Inspect the model</span></strong>\n",
        ">\n",
        "> 0. [Just for yourself.] Make sure that you understand the model architecture and its implementation. E.g., do you agree that this code implements the model graph shown above? Can you think of slight alterations to the model which might also work?\n",
        "\n"
      ]
    },
    {
      "cell_type": "markdown",
      "metadata": {
        "id": "XCst7X_atuD0"
      },
      "source": [
        "Click below to see the solutions."
      ]
    },
    {
      "cell_type": "markdown",
      "metadata": {
        "id": "zZVu2DSWtuD0"
      },
      "source": [
        "```{toggle}\n",
        "The model matches the graph in the picture. Not sure what the expected alternation here is. It could be a good idea to limit the dropout layer to training and deactivate for inference. We would have to add an additional parameter to the forward pass as shown above.\n",
        "\n",
        "Another idea would be to add a non-linear activation function between the combined output layer and the final output layer. This seems to improve training quiet a bit.\n",
        "```"
      ]
    },
    {
      "cell_type": "markdown",
      "metadata": {
        "id": "PcDJJgO5tuD0"
      },
      "source": [
        "## Helper functions for training\n",
        "\n"
      ]
    },
    {
      "cell_type": "markdown",
      "metadata": {
        "id": "t5-wNbV2tuD0"
      },
      "source": [
        "For training, we will present the model with randomly sampled single items.\n",
        "This is why we define a &rsquo;random_training_pair&rsquo; function which returns, well, a random training pair (category and name).\n",
        "\n"
      ]
    },
    {
      "cell_type": "code",
      "execution_count": 6,
      "metadata": {
        "id": "0WBKc5DBtuD0"
      },
      "outputs": [],
      "source": [
        "##################################################\n",
        "## helper functions for training\n",
        "##################################################\n",
        "\n",
        "\n",
        "# Random item from a list\n",
        "def random_choice(l):\n",
        "    return l[random.randint(0, len(l) - 1)]\n",
        "\n",
        "\n",
        "# Get a random category and random line from that category\n",
        "def random_training_pair():\n",
        "    category = random_choice(categories)\n",
        "    line = random_choice(train_data[category])\n",
        "    return category, line"
      ]
    },
    {
      "cell_type": "markdown",
      "metadata": {
        "id": "RVA1r2qhtuD0"
      },
      "source": [
        "We also need to make sure that the training and test data are in a format that the model understands.\n",
        "So, this is where we use vector representations for the categories and sequences of characters.\n",
        "For sequences of characters we distinguish those used as input to the model (&rsquo;input_tensor&rsquo;) and those used in training as what needs to be predicted (&rsquo;target_tensor&rsquo;).\n",
        "\n"
      ]
    },
    {
      "cell_type": "code",
      "execution_count": 7,
      "metadata": {
        "id": "f1D_y33CtuD0"
      },
      "outputs": [],
      "source": [
        "# One-hot vector for category\n",
        "def category_tensor(category):\n",
        "    li = categories.index(category)\n",
        "    tensor = torch.zeros(1, n_categories)\n",
        "    tensor[0][li] = 1\n",
        "    return tensor\n",
        "\n",
        "\n",
        "# One-hot matrix of first to last letters (not including [EOS]) for input\n",
        "# The first input is always [SOS]\n",
        "def input_tensor(line):\n",
        "    tensor = torch.zeros(len(line) + 1, 1, n_letters)\n",
        "    tensor[0][0][SOSIndex] = 1\n",
        "    for li in range(len(line)):\n",
        "        letter = line[li]\n",
        "        tensor[li + 1][0][all_letters.find(letter)] = 1\n",
        "    return tensor\n",
        "\n",
        "\n",
        "def target_tensor(line):\n",
        "    letter_indexes = [all_letters.find(line[li]) for li in range(len(line))]\n",
        "    letter_indexes.append(EOSIndex)\n",
        "    return torch.LongTensor(letter_indexes)"
      ]
    },
    {
      "cell_type": "markdown",
      "metadata": {
        "id": "VXbNMmuctuD0"
      },
      "source": [
        "Finally, we construct a function that returns a random training pair in the proper vectorized format.\n",
        "\n"
      ]
    },
    {
      "cell_type": "code",
      "execution_count": 8,
      "metadata": {
        "id": "BSODdN1ituD1"
      },
      "outputs": [],
      "source": [
        "# Make category, input, and target tensors from a random category, line pair\n",
        "def random_training_example():\n",
        "    category, line = random_training_pair()\n",
        "    category_tensor_ = category_tensor(category)\n",
        "    input_line_tensor = input_tensor(line)\n",
        "    target_line_tensor = target_tensor(line)\n",
        "    return category_tensor_, input_line_tensor, target_line_tensor"
      ]
    },
    {
      "cell_type": "markdown",
      "metadata": {
        "id": "77Gdqx5etuD1"
      },
      "source": [
        "> <strong><span style=&ldquo;color:#D83D2B;&rdquo;>Exercise 2.4.4: Understand the representational format </span></strong>\n",
        ">\n",
        "> 1. Write a doc-string for the function &rsquo;random_training_example&rsquo; that is short but completely explanatory regarding the format and meaning of its output."
      ]
    },
    {
      "cell_type": "markdown",
      "metadata": {
        "id": "mvWMTnXetuD1"
      },
      "source": [
        "Click below to see the solution."
      ]
    },
    {
      "cell_type": "code",
      "execution_count": 9,
      "metadata": {
        "tags": [
          "hide-cell"
        ],
        "id": "cOBv3F9BtuD1"
      },
      "outputs": [],
      "source": [
        "# Make category, input, and target tensors from a random category, line pair\n",
        "def random_training_example():\n",
        "    \"\"\"\n",
        "    create a random training example from dataset.\n",
        "    :return:\n",
        "        category_tensor_: A tensor of shape (1X18) with a one at the index of the current country and zeros elsewhere\n",
        "        input_line_tensor: A tensor of shape (length current name x 1 x 60). There is one tensor for each character of\n",
        "                           the name with a one at the index of the current character and zeros elsewhere.\n",
        "        target_line_tensor: A tensor of length equal to the number of characters in the name indicating the indices\n",
        "                            of the characters in the vocabulary. (gold label)\n",
        "    \"\"\"\n",
        "    category, line = random_training_pair()\n",
        "    category_tensor_ = category_tensor(category)\n",
        "    input_line_tensor = input_tensor(line)\n",
        "    target_line_tensor = target_tensor(line)\n",
        "    return category_tensor_, input_line_tensor, target_line_tensor"
      ]
    },
    {
      "cell_type": "markdown",
      "metadata": {
        "id": "K3y-oJFJtuD1"
      },
      "source": [
        "We use this timing function to keep track of training time:"
      ]
    },
    {
      "cell_type": "code",
      "execution_count": 10,
      "metadata": {
        "id": "SmLe5OT_tuD1"
      },
      "outputs": [],
      "source": [
        "def time_since(since):\n",
        "    now = time.time()\n",
        "    s = now - since\n",
        "    m = math.floor(s / 60)\n",
        "    s -= m * 60\n",
        "    return \"%dm %ds\" % (m, s)"
      ]
    },
    {
      "cell_type": "markdown",
      "metadata": {
        "id": "LWRSyg3StuD1"
      },
      "source": [
        "## Training the network\n",
        "\n"
      ]
    },
    {
      "cell_type": "markdown",
      "metadata": {
        "id": "fWc-y4GVtuD1"
      },
      "source": [
        "This function captures a single training step for one training triplet (category, input representation of the name, output representation of the string).\n",
        "\n",
        "What is important to note here is that at the start of each &ldquo;name&rdquo;, so to speak, we need to supply a fresh &rsquo;hidden layer&rsquo;, but that subsequent calls to the RNN&rsquo;s forward pass function will use the hidden layer that is returned from the previous forward pass.\n",
        "\n"
      ]
    },
    {
      "cell_type": "code",
      "execution_count": 11,
      "metadata": {
        "id": "L81eLRTTtuD1"
      },
      "outputs": [],
      "source": [
        "##################################################\n",
        "## single training pass\n",
        "##################################################\n",
        "\n",
        "\n",
        "def train(category_tensor, input_line_tensor, target_line_tensor):\n",
        "    # reshape target tensor\n",
        "    target_line_tensor.unsqueeze_(-1)\n",
        "    # get a fresh hidden layer\n",
        "    hidden = rnn.init_hidden()\n",
        "    # reset cumulative loss\n",
        "    optimizer.zero_grad()\n",
        "    loss = 0\n",
        "    # zero the gradients\n",
        "    # sequentially probe predictions and collect loss\n",
        "    for i in range(input_line_tensor.size(0)):\n",
        "        output, hidden = rnn(category_tensor, input_line_tensor[i], hidden, True)\n",
        "        l = criterion(output, target_line_tensor[i])\n",
        "        loss += l\n",
        "    # perform backward pass\n",
        "    loss.backward()\n",
        "    # perform optimization\n",
        "    optimizer.step()\n",
        "    # return prediction and loss\n",
        "    return loss.item()  # / input_line_tensor.size(0)"
      ]
    },
    {
      "cell_type": "markdown",
      "metadata": {
        "id": "Q0evkaKjtuD2"
      },
      "source": [
        "The actual training process is furthermore not very special.\n",
        "\n"
      ]
    },
    {
      "cell_type": "code",
      "execution_count": 12,
      "metadata": {
        "id": "Re4aQsy3tuD4",
        "outputId": "b0c5e20b-5445-4326-c32c-21772f0b6c76",
        "colab": {
          "base_uri": "https://localhost:8080/"
        }
      },
      "outputs": [
        {
          "output_type": "stream",
          "name": "stdout",
          "text": [
            "0m 33s (5000 5%) 19.7434\n",
            "1m 6s (10000 10%) 18.7332\n",
            "1m 46s (15000 15%) 18.1637\n",
            "2m 17s (20000 20%) 17.7142\n",
            "2m 48s (25000 25%) 17.3770\n",
            "3m 19s (30000 30%) 17.1123\n",
            "3m 50s (35000 35%) 16.8590\n",
            "4m 24s (40000 40%) 16.6528\n",
            "4m 58s (45000 45%) 16.4577\n",
            "5m 32s (50000 50%) 16.2769\n",
            "6m 9s (55000 55%) 16.1175\n",
            "6m 43s (60000 60%) 15.9642\n",
            "7m 15s (65000 65%) 15.8343\n",
            "7m 48s (70000 70%) 15.7009\n",
            "8m 20s (75000 75%) 15.5807\n",
            "8m 53s (80000 80%) 15.4801\n",
            "9m 25s (85000 85%) 15.3742\n",
            "9m 58s (90000 90%) 15.2773\n",
            "10m 31s (95000 95%) 15.1842\n",
            "11m 4s (100000 100%) 15.0935\n"
          ]
        }
      ],
      "source": [
        "##################################################\n",
        "## actual training loop\n",
        "## (should take about 2-4 minutes)\n",
        "##################################################\n",
        "\n",
        "# instantiate the model\n",
        "rnn = RNN(n_letters, 128, n_letters)\n",
        "# training objective\n",
        "criterion = nn.NLLLoss()\n",
        "# learning rate\n",
        "learning_rate = 0.0005\n",
        "# optimizer\n",
        "optimizer = torch.optim.Adam(rnn.parameters(), lr=learning_rate)\n",
        "# training parameters\n",
        "n_iters = 100000\n",
        "print_every = 5000\n",
        "plot_every = 500\n",
        "all_losses = []\n",
        "total_loss = 0  # will be reset every 'plot_every' iterations\n",
        "\n",
        "start = time.time()\n",
        "\n",
        "for iter in range(1, n_iters + 1):\n",
        "    loss = train(*random_training_example())\n",
        "    total_loss += loss\n",
        "\n",
        "    if iter % plot_every == 0:\n",
        "        all_losses.append(total_loss / plot_every)\n",
        "        total_loss = 0\n",
        "\n",
        "    if iter % print_every == 0:\n",
        "        rolling_mean = np.mean(all_losses[iter - print_every * (iter // print_every) :])\n",
        "        print(\n",
        "            \"%s (%d %d%%) %.4f\"\n",
        "            % (time_since(start), iter, iter / n_iters * 100, rolling_mean)\n",
        "        )"
      ]
    },
    {
      "cell_type": "markdown",
      "metadata": {
        "id": "olS0XPH2tuD4"
      },
      "source": [
        "Here is a plot of the temporal development of the model&rsquo;s performance during training:\n",
        "\n"
      ]
    },
    {
      "cell_type": "code",
      "execution_count": 13,
      "metadata": {
        "id": "m-0Hi2BatuD4",
        "outputId": "adaf42e0-156c-4c32-d50a-2172b37fe1fe",
        "colab": {
          "base_uri": "https://localhost:8080/",
          "height": 430
        }
      },
      "outputs": [
        {
          "output_type": "display_data",
          "data": {
            "text/plain": [
              "<Figure size 640x480 with 1 Axes>"
            ],
            "image/png": "[encoded data removed]"
          },
          "metadata": {}
        }
      ],
      "source": [
        "##################################################\n",
        "## monitoring loss function during training\n",
        "##################################################\n",
        "\n",
        "plt.figure()\n",
        "plt.plot(all_losses)\n",
        "plt.show()"
      ]
    },
    {
      "cell_type": "markdown",
      "metadata": {
        "id": "SSi53Wa3tuD5"
      },
      "source": [
        "> <strong><span style=&ldquo;color:#D83D2B;&rdquo;>Exercise 2.4.5: Investigate the training regime </span></strong>\n",
        ">\n",
        "> 1. What exactly is the loss function here? What are we training the model on: perplexity, average surprisal, or yet something else?\n",
        "\n"
      ]
    },
    {
      "cell_type": "markdown",
      "metadata": {
        "id": "n31la8kntuD5"
      },
      "source": [
        "Click below to see the solution."
      ]
    },
    {
      "cell_type": "markdown",
      "metadata": {
        "id": "myibz_3PtuD5"
      },
      "source": [
        "```{toggle}\n",
        "We have the loss function defined as the negative log likelihood loss, which is basically average surprisal. Especially since nn.NLLLoss has a parameter \"reduction\" which is set to \"mean\" by default.\n",
        "```"
      ]
    },
    {
      "cell_type": "markdown",
      "metadata": {
        "id": "mPrX2Fx1tuD5"
      },
      "source": [
        "## Evaluation & inference\n",
        "\n"
      ]
    },
    {
      "cell_type": "markdown",
      "metadata": {
        "id": "YxSk5yD2tuD5"
      },
      "source": [
        "Let&rsquo;s see what the model has learned and how well it does in producing new names.\n",
        "\n",
        "Here are some auxiliary functions to obtain surprisal values and related notions for sequences of characters.\n",
        "We can use them to compare the model&rsquo;s performance on the training and test data set.\n",
        "\n"
      ]
    },
    {
      "cell_type": "code",
      "execution_count": 14,
      "metadata": {
        "id": "S-EM8HnhtuD5",
        "outputId": "e6c804e1-fbce-46cd-8712-d1ff03fb161a",
        "colab": {
          "base_uri": "https://localhost:8080/"
        }
      },
      "outputs": [
        {
          "output_type": "stream",
          "name": "stdout",
          "text": [
            "\n",
            "mean surprisal (test): 15.375546794144238\n",
            "\n",
            "mean surprisal (train): 11.827734312108271\n"
          ]
        }
      ],
      "source": [
        "##################################################\n",
        "## evaluation\n",
        "##################################################\n",
        "\n",
        "\n",
        "def get_surprisal_item(category, name):\n",
        "    category_tensor_ = category_tensor(category)\n",
        "    input_line_tensor = input_tensor(name)\n",
        "    target_line_tensor = target_tensor(name)\n",
        "    hidden = rnn.init_hidden()\n",
        "    surprisal = 0\n",
        "    target_line_tensor.unsqueeze_(-1)\n",
        "\n",
        "    for i in range(input_line_tensor.size(0)):\n",
        "        output, hidden = rnn(category_tensor_, input_line_tensor[i], hidden, False)\n",
        "        surprisal += criterion(output, target_line_tensor[i])\n",
        "    return surprisal.item()\n",
        "\n",
        "\n",
        "def get_surprisal_dataset(data):\n",
        "    surprisl_dict = dict()\n",
        "    surp_avg_dict = dict()\n",
        "    perplxty_dict = dict()\n",
        "    for category in list(data.keys()):\n",
        "        surprisl = 0\n",
        "        surp_avg = 0\n",
        "        perplxty = 0\n",
        "        # training\n",
        "        for name in data[category]:\n",
        "            item_surpr = get_surprisal_item(category, name)\n",
        "            surprisl += item_surpr\n",
        "            surp_avg += item_surpr / len(name)\n",
        "            perplxty += item_surpr ** (-1 / len(name))\n",
        "        n_items = len(data[category])\n",
        "\n",
        "        surprisl_dict[category] = surprisl / n_items\n",
        "        surp_avg_dict[category] = surp_avg / n_items\n",
        "        perplxty_dict[category] = perplxty / n_items\n",
        "\n",
        "    return (surprisl_dict, surp_avg_dict, perplxty_dict)\n",
        "\n",
        "\n",
        "def make_df(surp_dict):\n",
        "    p = pandas.DataFrame.from_dict(surp_dict)\n",
        "    p = p.transpose()\n",
        "    p.columns = [\"surprisal\", \"surp_scaled\", \"perplexity\"]\n",
        "    return p\n",
        "\n",
        "\n",
        "surprisal_test = make_df(get_surprisal_dataset(test_data))\n",
        "surprisal_train = make_df(get_surprisal_dataset(train_data))\n",
        "\n",
        "print(\"\\nmean surprisal (test):\", np.mean(surprisal_test[\"surprisal\"]))\n",
        "print(\"\\nmean surprisal (train):\", np.mean(surprisal_train[\"surprisal\"]))"
      ]
    },
    {
      "cell_type": "markdown",
      "metadata": {
        "id": "XhWuJt6ztuD5"
      },
      "source": [
        "> <strong><span style=&ldquo;color:#D83D2B;&rdquo;>Exercise 2.4.6: Interpret the evaluation metric </span></strong>\n",
        ">\n",
        "> 1. What do these two last numbers represent? What&rsquo;s better: a higher or lower value? What do the two numbers tell us when we compare them?\n",
        "\n"
      ]
    },
    {
      "cell_type": "markdown",
      "metadata": {
        "id": "_R3TSjdLtuD5"
      },
      "source": [
        "Click below to see the solution."
      ]
    },
    {
      "cell_type": "markdown",
      "metadata": {
        "id": "rxzVc7HYtuD5"
      },
      "source": [
        "```{toggle}\n",
        "These two values answer the question, how surprised the model is seeing the data. A higher value indicates more surprisal. We can see that the model is more surprised seeing the test set, which makes sense because it was trained on the train set while it has never seen the test set before.\n",
        "```"
      ]
    },
    {
      "cell_type": "markdown",
      "metadata": {
        "id": "v0f8h8sbtuD5"
      },
      "source": [
        "## Inference\n",
        "\n"
      ]
    },
    {
      "cell_type": "markdown",
      "metadata": {
        "id": "OxiLulc-tuD5"
      },
      "source": [
        "Let&rsquo;s also explore the trained model&rsquo;s predictions to compare them against our own intuitions of what might be typical names in a given country.\n",
        "\n",
        "Here&rsquo;s a function that takes a country and an initial string, and it outputs a model prediction for how to continue that string.\n",
        "\n",
        "Note that for each prediction step with the model, the model is embedded under `torch.no_grad()`. This setting means that gradients are not computed during the forward passes through the model. This setting is recommended for *inference* (for any neural net), i.e., when you don't want to train the model anymore (only use it for generating predictions). This allows to increase computational effiency and save memory."
      ]
    },
    {
      "cell_type": "code",
      "execution_count": 17,
      "metadata": {
        "id": "gwOgLZARtuD5",
        "outputId": "144f1afa-f906-4db1-8302-08088504a220",
        "colab": {
          "base_uri": "https://localhost:8080/"
        }
      },
      "outputs": [
        {
          "output_type": "stream",
          "name": "stdout",
          "text": [
            "Müllein\n",
            "Müllein\n",
            "Müllein\n",
            "Müllein\n"
          ]
        }
      ],
      "source": [
        "##################################################\n",
        "## prediction function\n",
        "##################################################\n",
        "\n",
        "max_length = 20\n",
        "\n",
        "\n",
        "# make a prediction based on given sequence\n",
        "def predict(category, initial_sequence):\n",
        "\n",
        "    if len(initial_sequence) >= max_length:\n",
        "        return initial_sequence\n",
        "\n",
        "    category_tensor_ = category_tensor(category)\n",
        "    input_line_tensor = input_tensor(initial_sequence)\n",
        "    hidden = rnn.init_hidden()\n",
        "\n",
        "    name = initial_sequence\n",
        "\n",
        "    for i in range(input_line_tensor.size(0)):\n",
        "        with torch.no_grad():\n",
        "            output, hidden = rnn(category_tensor_, input_line_tensor[i], hidden, False)\n",
        "\n",
        "    # greedy decoding: choosing the most likely guess\n",
        "    topv, topi = output.topk(1)\n",
        "    topi = topi[0][0]\n",
        "\n",
        "    if topi == EOSIndex:\n",
        "        return name\n",
        "    else:\n",
        "        name += all_letters[topi]\n",
        "\n",
        "    return predict(category, name)\n",
        "\n",
        "\n",
        "print(predict(\"German\", \"Müll\"))\n",
        "print(predict(\"German\", \"Müll\"))\n",
        "print(predict(\"German\", \"Müll\"))\n",
        "print(predict(\"German\", \"Müll\"))"
      ]
    },
    {
      "cell_type": "markdown",
      "metadata": {
        "id": "TTpirzp7tuD5"
      },
      "source": [
        "You can also probe the model with an empty string:\n",
        "\n"
      ]
    },
    {
      "cell_type": "code",
      "execution_count": 18,
      "metadata": {
        "id": "LRuyjv6jtuD6",
        "outputId": "1d2d64ed-2ab7-4e82-98a7-720323893fcb",
        "colab": {
          "base_uri": "https://localhost:8080/"
        }
      },
      "outputs": [
        {
          "output_type": "stream",
          "name": "stdout",
          "text": [
            "Kawabama\n",
            "Kawabama\n",
            "Kawabama\n",
            "Kawabama\n"
          ]
        }
      ],
      "source": [
        "print(predict(\"Japanese\", \"\"))\n",
        "print(predict(\"Japanese\", \"\"))\n",
        "print(predict(\"Japanese\", \"\"))\n",
        "print(predict(\"Japanese\", \"\"))"
      ]
    },
    {
      "cell_type": "markdown",
      "metadata": {
        "id": "fVeyCrn1tuD6"
      },
      "source": [
        "> <strong><span style=&ldquo;color:#D83D2B;&rdquo;>Exercise 2.4.7: Explore the model&rsquo;s predictions </span></strong>\n",
        ">\n",
        "> 1. Play around with these prediction functions for a country or several of which you have robust intuitions about how names from that country might sound. Report on one feature that speaks in favor of the model, and one that suggests that the model is not perfect (or seriously flawed).\n",
        ">\n",
        "> 2. Is the prediction function as implemented in this subsection stochastic or not?\n",
        "\n"
      ]
    },
    {
      "cell_type": "markdown",
      "metadata": {
        "id": "s7q74ZqOtuD6"
      },
      "source": [
        "Click below to see the solution."
      ]
    },
    {
      "cell_type": "markdown",
      "metadata": {
        "id": "0j0lu9tetuD6"
      },
      "source": [
        "```{toggle}\n",
        "The predict() function itself is not stochastic but rather deterministic, because it uses greedy decoding. This means it will always choose the next most likely character. The variance in the completions comes from the dropout layer in the models architecture leaving space for some randomness. Removing that layer during inference (as described above) will always lead to the same completion given the same input.\n",
        "```"
      ]
    },
    {
      "cell_type": "markdown",
      "metadata": {
        "id": "tIW0iMzAtuD6"
      },
      "source": [
        "## Inverting the generation model\n",
        "\n"
      ]
    },
    {
      "cell_type": "markdown",
      "metadata": {
        "id": "XIeV3p-otuD6"
      },
      "source": [
        "The model we have trained here could be consider a **speaker model**: the model generates language (very limited in scope but still).\n",
        "Additionally, the model can be used to probe how likely a particular name would be (as a generated string) for a particular category/country.\n",
        "So, essentially we get something like $P_{S}(name \\mid category)$ as a speaker likelihood function.\n",
        "For instance, we can do this:\n",
        "\n"
      ]
    },
    {
      "cell_type": "code",
      "execution_count": 19,
      "metadata": {
        "id": "xnBk0LxctuD6",
        "outputId": "48d8f764-ebe0-4aea-9053-aa6d9fd8fbb0",
        "colab": {
          "base_uri": "https://localhost:8080/"
        }
      },
      "outputs": [
        {
          "output_type": "stream",
          "name": "stdout",
          "text": [
            "14.283496856689453\n",
            "23.21905517578125\n"
          ]
        }
      ],
      "source": [
        "print(get_surprisal_item(\"German\", \"Franke\"))\n",
        "print(get_surprisal_item(\"Arabic\", \"Franke\"))"
      ]
    },
    {
      "cell_type": "markdown",
      "metadata": {
        "id": "wfrl6_mZtuD6"
      },
      "source": [
        "> <strong><span style=&ldquo;color:#D83D2B;&rdquo;>Exercise 2.4.8: Category prediction with Bayes rule </span></strong>\n",
        ">\n",
        "> 1. Use the model as a speaker likelihood function to compute, via Bayes rule, the probability $P(category\\mid name)$ for the names &ldquo;Dovesky&rdquo;, &ldquo;Jackson&rdquo; and &ldquo;Satoshi&rdquo;. Compare the results against those obtained by the RNN-based classifier reported in [this tutorial](https://pytorch.org/tutorials/intermediate/char_rnn_classification_tutorial.html) (all the way at the end).\n",
        "\n"
      ]
    },
    {
      "cell_type": "markdown",
      "metadata": {
        "id": "Tunf1tqStuD7"
      },
      "source": [
        "Click below to see the solution."
      ]
    },
    {
      "cell_type": "code",
      "execution_count": 20,
      "metadata": {
        "tags": [
          "hide-cell"
        ],
        "id": "7YwO0mfItuD7"
      },
      "outputs": [],
      "source": [
        "# names_data\n",
        "n_names = 0\n",
        "for key in train_data:\n",
        "    n_names += len(train_data[key])\n",
        "n_categories = len(train_data)"
      ]
    },
    {
      "cell_type": "code",
      "execution_count": 21,
      "metadata": {
        "tags": [
          "hide-cell"
        ],
        "id": "EbQG7_FXtuD7",
        "outputId": "a817c74d-445b-4fdd-ca2e-de491ffa993c",
        "colab": {
          "base_uri": "https://localhost:8080/"
        }
      },
      "outputs": [
        {
          "output_type": "stream",
          "name": "stdout",
          "text": [
            "Logspace: P(Czech | Doveski) = -2.365657329559326\n",
            "Logspace: P(German | Doveski) = -2.777169704437256\n",
            "Logspace: P(Arabic | Doveski) = -3.745370388031006\n",
            "Logspace: P(Japanese | Doveski) = -2.880267381668091\n",
            "Logspace: P(Chinese | Doveski) = -3.3929669857025146\n",
            "Logspace: P(Vietnamese | Doveski) = -3.835690975189209\n",
            "Logspace: P(Russian | Doveski) = -2.5713143348693848\n",
            "Logspace: P(French | Doveski) = -2.553196430206299\n",
            "Logspace: P(Irish | Doveski) = -3.0464420318603516\n",
            "Logspace: P(English | Doveski) = -2.529177665710449\n",
            "Logspace: P(Spanish | Doveski) = -2.5415666103363037\n",
            "Logspace: P(Greek | Doveski) = -3.074370861053467\n",
            "Logspace: P(Italian | Doveski) = -2.4032933712005615\n",
            "Logspace: P(Portuguese | Doveski) = -3.4261181354522705\n",
            "Logspace: P(Scottish | Doveski) = -3.2768893241882324\n",
            "Logspace: P(Dutch | Doveski) = -3.064845085144043\n",
            "Logspace: P(Korean | Doveski) = -3.6848204135894775\n",
            "Logspace: P(Polish | Doveski) = -2.6587729454040527\n",
            "1.0\n",
            "\n",
            "------------------------------------------------------------------------\n",
            "\n",
            "Logspace: P(Czech | Jackson) = -2.8210318088531494\n",
            "Logspace: P(German | Jackson) = -2.315802812576294\n",
            "Logspace: P(Arabic | Jackson) = -3.477729320526123\n",
            "Logspace: P(Japanese | Jackson) = -4.327201843261719\n",
            "Logspace: P(Chinese | Jackson) = -3.842988967895508\n",
            "Logspace: P(Vietnamese | Jackson) = -4.857032775878906\n",
            "Logspace: P(Russian | Jackson) = -3.3119711875915527\n",
            "Logspace: P(French | Jackson) = -2.6091432571411133\n",
            "Logspace: P(Irish | Jackson) = -2.7820615768432617\n",
            "Logspace: P(English | Jackson) = -1.9134485721588135\n",
            "Logspace: P(Spanish | Jackson) = -3.7287161350250244\n",
            "Logspace: P(Greek | Jackson) = -3.819566249847412\n",
            "Logspace: P(Italian | Jackson) = -3.917335033416748\n",
            "Logspace: P(Portuguese | Jackson) = -4.974271297454834\n",
            "Logspace: P(Scottish | Jackson) = -1.343438744544983\n",
            "Logspace: P(Dutch | Jackson) = -2.9313018321990967\n",
            "Logspace: P(Korean | Jackson) = -4.1100544929504395\n",
            "Logspace: P(Polish | Jackson) = -3.08980655670166\n",
            "1.0\n",
            "\n",
            "------------------------------------------------------------------------\n",
            "\n",
            "Logspace: P(Czech | Satoshi) = -2.6201469898223877\n",
            "Logspace: P(German | Satoshi) = -3.0247511863708496\n",
            "Logspace: P(Arabic | Satoshi) = -3.3902158737182617\n",
            "Logspace: P(Japanese | Satoshi) = -1.7062535285949707\n",
            "Logspace: P(Chinese | Satoshi) = -3.4581782817840576\n",
            "Logspace: P(Vietnamese | Satoshi) = -4.9422149658203125\n",
            "Logspace: P(Russian | Satoshi) = -2.759708881378174\n",
            "Logspace: P(French | Satoshi) = -3.048692464828491\n",
            "Logspace: P(Irish | Satoshi) = -3.228531837463379\n",
            "Logspace: P(English | Satoshi) = -2.8264079093933105\n",
            "Logspace: P(Spanish | Satoshi) = -2.712934970855713\n",
            "Logspace: P(Greek | Satoshi) = -2.7978484630584717\n",
            "Logspace: P(Italian | Satoshi) = -2.4839489459991455\n",
            "Logspace: P(Portuguese | Satoshi) = -2.741818904876709\n",
            "Logspace: P(Scottish | Satoshi) = -2.9380545616149902\n",
            "Logspace: P(Dutch | Satoshi) = -3.7018139362335205\n",
            "Logspace: P(Korean | Satoshi) = -4.416182041168213\n",
            "Logspace: P(Polish | Satoshi) = -2.9894051551818848\n",
            "0.99999994\n",
            "\n",
            "------------------------------------------------------------------------\n",
            "\n"
          ]
        }
      ],
      "source": [
        "# function to retrieve conditional probability for (name|country)\n",
        "def get_prob(country, name):\n",
        "    category_tensor_ = category_tensor(country)\n",
        "    input_line_tensor = input_tensor(name)\n",
        "    target_line_tensor = target_tensor(name)\n",
        "    hidden = rnn.init_hidden()\n",
        "    log_prob = 0\n",
        "\n",
        "    for i in range(input_line_tensor.size(0)):\n",
        "\n",
        "        output, hidden = rnn(category_tensor_, input_line_tensor[i], hidden, False)\n",
        "        output = output.squeeze()\n",
        "        log_prob += output[target_line_tensor[i]].detach().numpy()\n",
        "    return np.exp(log_prob/input_line_tensor.size(0))\n",
        "\n",
        "\n",
        "# get probability of categories\n",
        "p_categories = {}\n",
        "for key in names_data:\n",
        "    p_categories[key] = len(names_data[key])/n_names\n",
        "\n",
        "# get the conditional probabilities P(name|cat) from model\n",
        "cond_prob_names = {\"Doveski\":[], \"Jackson\":[], \"Satoshi\":[]}\n",
        "country2idx = {}\n",
        "for i, key in enumerate(names_data):\n",
        "    # create mapping from index to country\n",
        "    country2idx[key] = i\n",
        "    for name in cond_prob_names:\n",
        "        prob = get_prob(key, name)\n",
        "        cond_prob_names[name].append(prob)\n",
        "\n",
        "# calculate probability of name as P(name) = sum(P(name|category) * P(category)) for all categories\n",
        "p_names = {\"Doveski\":0, \"Jackson\":0, \"Satoshi\":0}\n",
        "for name in p_names:\n",
        "    for country in names_data:\n",
        "        p_names[name] += cond_prob_names[name][country2idx[country]] * 1/18\n",
        "\n",
        "# apply bayes law\n",
        "for name in cond_prob_names:\n",
        "    total = 0\n",
        "    for country in names_data:\n",
        "        # print(f\"P({country} | {name}) = {(cond_prob_names[name][country2idx[country]] * p_categories[country]) / p_names[name]}\")\n",
        "        print(f\"Logspace: P({country} | {name}) = {np.log((cond_prob_names[name][country2idx[country]] * 1/18) / p_names[name])}\")\n",
        "        total += (cond_prob_names[name][country2idx[country]] * 1/18) / p_names[name]\n",
        "    print(total)\n",
        "    print(\"\\n------------------------------------------------------------------------\\n\")"
      ]
    },
    {
      "cell_type": "markdown",
      "metadata": {
        "id": "uOwY4tHetuD7"
      },
      "source": [
        "```{toggle}\n",
        "While the numbers don't exactly match with the tutorial, the general tendency is the same except for \"satoshi\", where our model predicts more correctly japanese as the most likely class as opposed to italian in the tutorial.\n",
        "```"
      ]
    },
    {
      "cell_type": "markdown",
      "metadata": {
        "id": "ns_CmKnftuD7"
      },
      "source": []
    }
  ],
  "metadata": {
    "kernelspec": {
      "display_name": "npNLG",
      "language": "python",
      "name": "python3"
    },
    "language_info": {
      "codemirror_mode": {
        "name": "ipython",
        "version": 3
      },
      "file_extension": ".py",
      "mimetype": "text/x-python",
      "name": "python",
      "nbconvert_exporter": "python",
      "pygments_lexer": "ipython3",
      "version": "3.10.14"
    },
    "org": null,
    "colab": {
      "provenance": []
    }
  },
  "nbformat": 4,
  "nbformat_minor": 0
}