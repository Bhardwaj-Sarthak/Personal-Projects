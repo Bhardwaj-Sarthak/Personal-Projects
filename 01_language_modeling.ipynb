{
  "cells": [
    {
      "cell_type": "markdown",
      "metadata": {
        "id": "view-in-github",
        "colab_type": "text"
      },
      "source": [
        "<a href=\"https://colab.research.google.com/github/Bhardwaj-Sarthak/Personal-Projects/blob/main/01_language_modeling.ipynb\" target=\"_parent\"><img src=\"https://colab.research.google.com/assets/colab-badge.svg\" alt=\"Open In Colab\"/></a>"
      ]
    },
    {
      "cell_type": "markdown",
      "metadata": {
        "id": "cMtlGuAVCHuM"
      },
      "source": [
        "# Homework 1: Language models (58 points)\n",
        "\n",
        "The first homework focuses on the following skills: being able to work with concpetual & formal exercises on language modeling and neural networks, understanding configurations of state-of-the-art language models and, finally, fine-tuning a language model yourself!\n",
        "\n",
        "### Logistics\n",
        "\n",
        "* submission deadline: May 13th 23:59 German time via Moodle\n",
        "  * please upload a **SINGLE ZIP FILE named Surname_FirstName_HW1.zip** containing the .ipynb file of the notebook (if you solve it on Colab, you can go to File > download).\n",
        "* please make sure to **KEEP** the outputs of your notebook cells where needed, so that we can inspect them.\n",
        "* please solve and submit the homework **individually**!\n",
        "* if you use Colab, to speed up the execution of the code on Colab (especially Exercise 3), you can use the available GPU (if Colab resources allow). For that, before executing your code, navigate to Runtime > Change runtime type > GPU > Save."
      ]
    },
    {
      "cell_type": "markdown",
      "metadata": {
        "id": "b8i9TvKpCHuM"
      },
      "source": [
        "## Exercise 1: Understanding language modeling (12 points)\n",
        "\n",
        "Please answer the following exercises. Importantly, please reason step by step; i.e., where calculations are required, please provide intermediate steps of how you arrived at your solution. You do not need to write any code, just mathematical solutions.\n",
        "\n",
        "> 1. [6pts] Consider the corpus $C$ with the following sentences: $C=${\"The cat sneezes\", \"The bird sings\", \"The cat sneezes\", \"A dog sings\"}.\n",
        "> (a) Define the vocabulary $V$ of this corpus (assuming by-word tokenization).\n",
        "> (b) Pick one of the four sentences in $C$. Formulate the probability of that sentence in the form of the chain rule. Calculate the probability of each termn in the chain rule, given the corpus (assuming that there is, additionally, a start-of-sequence and an end-of-sequence token).\n",
        "> 2. [4pts] We want to train a neural network that takes as input two numbers $x_1, x_2$, passes them through three hidden linear layers, each with 13 neurons, each followed by the ReLU activation function, and outputs three numbers $y_1, y_2, y_3$. Write down all weight matrices of this network with their dimensions. (Example: if one weight matrix has the dimensions 3x5, write $M_1\\in R^{3\\times5}$)\n",
        "> 3. [2pts] Consider the sequence: \"Input: Some students trained each language model\". Assuming that each word+space/punctuation corresponds to one token, consider the following token probabilities of this sequence under some trained language model: $p = [0.67, 0.91, 0.83, 0.40, 0.29, 0.58, 0.75]$. Compute the average surprisal of this sequence under that language model. [Note: in this class we always assume the base $e$ for $log$, unless indicated otherwise. This is also usually the case throughout NLP.]"
      ]
    },
    {
      "cell_type": "markdown",
      "metadata": {
        "id": "U2kz5bKLCHuN"
      },
      "source": [
        "## Exercise 2: Understanding LLM configuration (8 points)\n",
        "\n",
        "For this task, your job is to understand the configrations of a state-of-the-art transformer, provided in a `config.json` file for allowing to initialize a transformer through the function `AutoModelForCausalLM.from_pretrained()` witin the `transformers` library. This file contains meta-information about the parameter configurations of the transformer.\n",
        "\n",
        "Your task is to:\n",
        "1. explain what each line of the following config provides. Please write a commend above the line explaining what the following parameter is.\n",
        "2. modify the config so that the transformer would use a context window size of 1024, 12 attention heads, and a ReLU activation function."
      ]
    },
    {
      "cell_type": "code",
      "execution_count": null,
      "metadata": {
        "id": "AK53htJKCHuN"
      },
      "outputs": [],
      "source": [
        "{\n",
        "  \"attention_bias\": false,\n",
        "  \"attention_dropout\": 0.0,\n",
        "  \"bos_token_id\": 100257,\n",
        "  \"eos_token_id\": 100257,\n",
        "  \"hidden_act\": \"silu\",\n",
        "  \"hidden_size\": 5120,\n",
        "  \"initializer_range\": 0.02,\n",
        "  \"intermediate_size\": 27648,\n",
        "  \"max_position_embeddings\": 4096,\n",
        "  \"num_attention_heads\": 40,\n",
        "  \"num_hidden_layers\": 64,\n",
        "  \"num_key_value_heads\": 8,\n",
        "  \"pad_token_id\": 100277,\n",
        "  \"rms_norm_eps\": 1e-06,\n",
        "  \"rope_scaling\": null,\n",
        "  \"rope_theta\": 500000,\n",
        "  \"tie_word_embeddings\": false,\n",
        "  \"torch_dtype\": \"float32\",\n",
        "  \"use_cache\": true,\n",
        "  \"vocab_size\": 100352\n",
        "}"
      ]
    },
    {
      "cell_type": "code",
      "source": [
        "{  # Whether to use a bias in the attention calculation.\n",
        "  \"attention_bias\": false,\n",
        "  # Dropout rate applied to the attention weights.\n",
        "  \"attention_dropout\": 0.0,\n",
        "  # ID of the beginning-of-sequence token.\n",
        "  \"bos_token_id\": 100257,\n",
        "  # ID of the end-of-sequence token.\n",
        "  \"eos_token_id\": 100257,\n",
        "  # Activation function used in the hidden layers.\n",
        "  \"hidden_act\": \"silu\",\n",
        "  # change this to \"Relu\"\n",
        "\n",
        "  # Dimensionality of the hidden layers.\n",
        "  \"hidden_size\": 5120,\n",
        "  # Standard deviation of the weight initialization.\n",
        "  \"initializer_range\": 0.02,\n",
        "  # Dimensionality of the \"intermediate\" (feed-forward) layer in the transformer block.\n",
        "  \"intermediate_size\": 27648,\n",
        "  # Maximum sequence length the model can handle.\n",
        "  \"max_position_embeddings\": 4096,\n",
        "\n",
        "  # Change this to 1024\n",
        "\n",
        "  # Number of attention heads.\n",
        "  \"num_attention_heads\": 40,\n",
        "  # Change this to 12\n",
        "\n",
        "  # Number of hidden layers in the transformer.\n",
        "  \"num_hidden_layers\": 64,\n",
        "  # Number of key-value heads in the attention mechanism.\n",
        "  \"num_key_value_heads\": 8,\n",
        "  # ID of the padding token.\n",
        "  \"pad_token_id\": 100277,\n",
        "  # Epsilon value used in the root mean square normalization.\n",
        "  \"rms_norm_eps\": 1e-06,\n",
        "  # Scaling factor for the rotary position embeddings (RoPE).\n",
        "  \"rope_scaling\": \"null\",\n",
        "  # Theta value for the rotary position embeddings (RoPE).\n",
        "  \"rope_theta\": 500000,\n",
        "  # Whether to tie the input and output word embeddings.\n",
        "  \"tie_word_embeddings\": False,\n",
        "  # Data type used for the model's parameters.\n",
        "  \"torch_dtype\": \"float32\",\n",
        "  # Whether to use caching during inference.\n",
        "  \"use_cache\": True,\n",
        "  # Size of the model's vocabulary.\n",
        "    \"vocab_size\": 100352 }"
      ],
      "metadata": {
        "id": "Ze3Ag1xCCJpN"
      },
      "execution_count": null,
      "outputs": []
    },
    {
      "cell_type": "markdown",
      "metadata": {
        "id": "EiZQsQOKCHuO"
      },
      "source": [
        "## Exercise 3 (15 points):\n",
        "\n",
        "In the lecture, we have extensively covered a core component of the transformer -- the self-attention calculation in the forward pass.\n",
        "In this exercise, your task is to perform the forward pass steps 1-6.i (i.e., up to, excluding, the forward step) from the exercise sheet assuming that the transformer has *a second* attention heads, where the second attention head has the following weight matrices:"
      ]
    },
    {
      "cell_type": "code",
      "source": [
        "import torch"
      ],
      "metadata": {
        "id": "co3t38ysCpP8"
      },
      "execution_count": 1,
      "outputs": []
    },
    {
      "cell_type": "code",
      "execution_count": 2,
      "metadata": {
        "id": "MZ8ZWW1FCHuO"
      },
      "outputs": [],
      "source": [
        "Q_2 = [[0.5, 1, 1], [2, 0, 0.2], [3, 2, 0]]\n",
        "K_2 = [[0.1, 0.5, 1], [0.5, 1, 1], [2, 2, 2]]\n",
        "V_2 = [[1, 0.1, 0.3], [0, 3, 0.5], [1, 1, 1]]"
      ]
    },
    {
      "cell_type": "code",
      "source": [
        "Q_2=torch.tensor(Q_2)\n",
        "K_2=torch.tensor(K_2)\n",
        "V_2=torch.tensor(V_2)\n",
        "I=[[1,0,0,0,0,0,0,0,0,0],\n",
        "   [0,0,0,1,0,0,0,0,0,0],\n",
        "   [0,0,0,0,0,0,1,0,0,0],\n",
        "   [0,0,0,0,0,0,0,1,0,0],\n",
        "   [0,0,1,0,0,0,0,0,0,0]]\n",
        "E=[[0,1,2],\n",
        "   [6,7,1],\n",
        "   [3,4,5],\n",
        "   [0,2,1],\n",
        "   [1,3,0],\n",
        "   [3,8,6],\n",
        "   [2,7,5],\n",
        "   [6,2,1],\n",
        "   [9,1,3],\n",
        "   [0,1,1]]\n",
        "W=[[1,0,1],[0,1,1],[1,1,1]]\n",
        "b_f=[[2],[1],[1]]\n",
        "I=torch.tensor(I,dtype=torch.float32)\n",
        "E=torch.tensor(E,dtype=torch.float32)\n",
        "W=torch.tensor(W,dtype=torch.float32)\n",
        "b_f=torch.tensor(b_f,dtype=torch.float32)\n",
        "print(I.size())\n",
        "print(E.size())\n",
        "X= torch.matmul(I,E)\n",
        "print(X)\n",
        "X_q2=torch.matmul(X,Q_2)\n",
        "print('X*Q2')\n",
        "print(X_q2)\n",
        "X_k2=torch.matmul(X,K_2)\n",
        "print('X*K2')\n",
        "print(X_k2)\n",
        "X_v2=torch.matmul(X,V_2)\n",
        "print('X*V2')\n",
        "print(X_v2)\n",
        "S=torch.tensordot(X_q2,X_k2.T,dims=1)\n",
        "print('S=(X*Q2)(X*K2).T')\n",
        "print(S)\n",
        "A=[[0,-torch.inf,-torch.inf,-torch.inf,-torch.inf],\n",
        "   [0,0,-torch.inf,-torch.inf,-torch.inf],\n",
        "   [0,0,0,-torch.inf,-torch.inf,],\n",
        "   [0,0,0,0,-torch.inf],\n",
        "   [0,0,0,0,0]]\n",
        "A=torch.tensor(A,dtype=torch.float32)\n",
        "print('Mask')\n",
        "print(A)\n",
        "S_A=S+A\n",
        "print(S_A)\n",
        "print('Softmax')\n",
        "z=torch.softmax(S_A,dim=1)\n",
        "print(z)\n",
        "z_v2=torch.matmul(z,X_v2)\n",
        "print('z*V2')\n",
        "print(z_v2)\n",
        "z_v2_sum= z_v2+X\n",
        "print('Sum')\n",
        "print(z_v2_sum)\n",
        "norm_z_v2_sum=torch.nn.functional.normalize(z_v2_sum,p=2,dim=1)\n",
        "print('Norm')\n",
        "print(norm_z_v2_sum)\n",
        "O=torch.matmul(norm_z_v2_sum,W)+b_f.T\n",
        "print('Norm*W+b_f')\n",
        "print(O)\n",
        "M_out=[[0,2,1,1,3,1,0,0,4,1],[1,1,3,1,0,0,4,1,0,2],[1,4,0,0,1,3,1,1,2,0]]\n",
        "M_out=torch.tensor(M_out,dtype=torch.float32)\n",
        "print('M_out')\n",
        "print(M_out)\n",
        "L=torch.matmul(O,M_out)\n",
        "print('L=O*M_out')\n",
        "print(L)\n",
        "print(torch.log(torch.softmax(L,dim=1)))"
      ],
      "metadata": {
        "colab": {
          "base_uri": "https://localhost:8080/"
        },
        "id": "QhPyGy2UCXni",
        "outputId": "db477711-4bf9-4331-9dd8-dc6ecbd4eb8e"
      },
      "execution_count": 3,
      "outputs": [
        {
          "output_type": "stream",
          "name": "stdout",
          "text": [
            "torch.Size([5, 10])\n",
            "torch.Size([10, 3])\n",
            "tensor([[0., 1., 2.],\n",
            "        [0., 2., 1.],\n",
            "        [2., 7., 5.],\n",
            "        [6., 2., 1.],\n",
            "        [3., 4., 5.]])\n",
            "X*Q2\n",
            "tensor([[ 8.0000,  4.0000,  0.2000],\n",
            "        [ 7.0000,  2.0000,  0.4000],\n",
            "        [30.0000, 12.0000,  3.4000],\n",
            "        [10.0000,  8.0000,  6.4000],\n",
            "        [24.5000, 13.0000,  3.8000]])\n",
            "X*K2\n",
            "tensor([[ 4.5000,  5.0000,  5.0000],\n",
            "        [ 3.0000,  4.0000,  4.0000],\n",
            "        [13.7000, 18.0000, 19.0000],\n",
            "        [ 3.6000,  7.0000, 10.0000],\n",
            "        [12.3000, 15.5000, 17.0000]])\n",
            "X*V2\n",
            "tensor([[ 2.0000,  5.0000,  2.5000],\n",
            "        [ 1.0000,  7.0000,  2.0000],\n",
            "        [ 7.0000, 26.2000,  9.1000],\n",
            "        [ 7.0000,  7.6000,  3.8000],\n",
            "        [ 8.0000, 17.3000,  7.9000]])\n",
            "S=(X*Q2)(X*K2).T\n",
            "tensor([[ 57.0000,  40.8000, 185.4000,  58.8000, 163.8000],\n",
            "        [ 43.5000,  30.6000, 139.5000,  43.2000, 123.9000],\n",
            "        [212.0000, 151.6000, 691.6000, 226.0000, 612.8000],\n",
            "        [117.0000,  87.6000, 402.6000, 156.0000, 355.8000],\n",
            "        [194.2500, 140.7000, 641.8500, 217.2000, 567.4500]])\n",
            "Mask\n",
            "tensor([[0., -inf, -inf, -inf, -inf],\n",
            "        [0., 0., -inf, -inf, -inf],\n",
            "        [0., 0., 0., -inf, -inf],\n",
            "        [0., 0., 0., 0., -inf],\n",
            "        [0., 0., 0., 0., 0.]])\n",
            "tensor([[ 57.0000,     -inf,     -inf,     -inf,     -inf],\n",
            "        [ 43.5000,  30.6000,     -inf,     -inf,     -inf],\n",
            "        [212.0000, 151.6000, 691.6000,     -inf,     -inf],\n",
            "        [117.0000,  87.6000, 402.6000, 156.0000,     -inf],\n",
            "        [194.2500, 140.7000, 641.8500, 217.2000, 567.4500]])\n",
            "Softmax\n",
            "tensor([[1.0000e+00, 0.0000e+00, 0.0000e+00, 0.0000e+00, 0.0000e+00],\n",
            "        [1.0000e+00, 2.4980e-06, 0.0000e+00, 0.0000e+00, 0.0000e+00],\n",
            "        [0.0000e+00, 0.0000e+00, 1.0000e+00, 0.0000e+00, 0.0000e+00],\n",
            "        [0.0000e+00, 0.0000e+00, 1.0000e+00, 0.0000e+00, 0.0000e+00],\n",
            "        [0.0000e+00, 0.0000e+00, 1.0000e+00, 0.0000e+00, 4.8807e-33]])\n",
            "z*V2\n",
            "tensor([[ 2.0000,  5.0000,  2.5000],\n",
            "        [ 2.0000,  5.0000,  2.5000],\n",
            "        [ 7.0000, 26.2000,  9.1000],\n",
            "        [ 7.0000, 26.2000,  9.1000],\n",
            "        [ 7.0000, 26.2000,  9.1000]])\n",
            "Sum\n",
            "tensor([[ 2.0000,  6.0000,  4.5000],\n",
            "        [ 2.0000,  7.0000,  3.5000],\n",
            "        [ 9.0000, 33.2000, 14.1000],\n",
            "        [13.0000, 28.2000, 10.1000],\n",
            "        [10.0000, 30.2000, 14.1000]])\n",
            "Norm\n",
            "tensor([[0.2577, 0.7730, 0.5797],\n",
            "        [0.2476, 0.8666, 0.4333],\n",
            "        [0.2421, 0.8931, 0.3793],\n",
            "        [0.3981, 0.8636, 0.3093],\n",
            "        [0.2874, 0.8679, 0.4052]])\n",
            "Norm*W+b_f\n",
            "tensor([[2.8374, 2.3527, 2.6104],\n",
            "        [2.6809, 2.2999, 2.5475],\n",
            "        [2.6214, 2.2723, 2.5144],\n",
            "        [2.7074, 2.1729, 2.5710],\n",
            "        [2.6926, 2.2731, 2.5605]])\n",
            "M_out\n",
            "tensor([[0., 2., 1., 1., 3., 1., 0., 0., 4., 1.],\n",
            "        [1., 1., 3., 1., 0., 0., 4., 1., 0., 2.],\n",
            "        [1., 4., 0., 0., 1., 3., 1., 1., 2., 0.]])\n",
            "L=O*M_out\n",
            "tensor([[ 4.9631, 18.4691,  9.8956,  5.1901, 11.1226, 10.6686, 12.0213,  4.9631,\n",
            "         16.5704,  7.5429],\n",
            "        [ 4.8473, 17.8515,  9.5805,  4.9807, 10.5901, 10.3233, 11.7469,  4.8473,\n",
            "         15.8185,  7.2806],\n",
            "        [ 4.7867, 17.5728,  9.4384,  4.8937, 10.3785, 10.1646, 11.6037,  4.7867,\n",
            "         15.5143,  7.1660],\n",
            "        [ 4.7440, 17.8719,  9.2262,  4.8804, 10.6933, 10.4206, 11.2627,  4.7440,\n",
            "         15.9718,  7.0533],\n",
            "        [ 4.8336, 17.9001,  9.5118,  4.9657, 10.6382, 10.3740, 11.6528,  4.8336,\n",
            "         15.8913,  7.2388]])\n",
            "tensor([[-13.6480,  -0.1420,  -8.7155, -13.4210,  -7.4885,  -7.9426,  -6.5898,\n",
            "         -13.6480,  -2.0407, -11.0683],\n",
            "        [-13.1305,  -0.1264,  -8.3974, -12.9971,  -7.3877,  -7.6546,  -6.2309,\n",
            "         -13.1305,  -2.1594, -10.6972],\n",
            "        [-12.9099,  -0.1239,  -8.2583, -12.8029,  -7.3181,  -7.5320,  -6.0929,\n",
            "         -12.9099,  -2.1823, -10.5306],\n",
            "        [-13.2699,  -0.1419,  -8.7876, -13.1335,  -7.3205,  -7.5933,  -6.7511,\n",
            "         -13.2699,  -2.0420, -10.9606],\n",
            "        [-13.1955,  -0.1289,  -8.5172, -13.0634,  -7.3908,  -7.6550,  -6.3762,\n",
            "         -13.1955,  -2.1378, -10.7903]])\n"
          ]
        }
      ]
    },
    {
      "cell_type": "markdown",
      "metadata": {
        "id": "l8kK1DnkCHuO"
      },
      "source": [
        "Your task is to submit a solution calculating the contextualized representations of this second attention head.\n",
        "Please make sure to include all the intermediate calculation steps and answer the following question:\n",
        "- How does the memory load of running inference with the transformer scale with the number of attention heads?\n",
        "\n",
        "You can submit a picture / scan of a hand-written, or type it in TeX -- up to you."
      ]
    },
    {
      "cell_type": "markdown",
      "source": [
        "memory load of running inference with the tarnsformer scales **linearly**"
      ],
      "metadata": {
        "id": "kiDeL1RcHt7K"
      }
    },
    {
      "cell_type": "markdown",
      "metadata": {
        "id": "yWuJBfOlCHuP"
      },
      "source": [
        "## Exercise 4: Fine-tuning Pythia for Question Answering (23 points)\n",
        "\n",
        "The learning goal of this exercise is to practice fine-tuning a pretrained LM, Pythia-160M, for a particular task, namely commonsense question answering (QA). We will use a task-specific dataset, [CommonsenseQA](https://huggingface.co/datasets/tau/commonsense_qa), that was introduced by [Talmor et al. (2018)](https://arxiv.org/abs/1811.00937). We will evaluate the performance of the model on our test split of the dataset over training to monitor whether the model's performance is improving and compare the performance of the base pretrained Pythia model and the fine-tuned model. We will need to perform the following steps:\n",
        "\n",
        "1. Prepare data according to steps described in [sheet 1.1](https://cogsciprag.github.io/Understanding-LLMs-course/tutorials/01-introduction.html#main-training-data-processing-steps)\n",
        "   1. additionally to these steps, prepare a custom Dataset (like in [sheet 2.3](https://cogsciprag.github.io/Understanding-LLMs-course/tutorials/02c-MLP-pytorch.html#preparing-the-training-data)) that massages the dataset from the format that it is shipped in on HuggingFace into strings that can be used for training. Some of the procesing steps will happen in the Dataset.\n",
        "2. Load the pretrained Pythia-160m model\n",
        "3. Set up training pipeline according to steps described in [sheet 2.5]()\n",
        "4. Run the training for **200 steps**, while tracking the losses. This number of steps should be sufficient for being able to tell that your training is working *in principle*.\n",
        "5. Save plot of losses for submission"
      ]
    },
    {
      "cell_type": "markdown",
      "metadata": {
        "id": "pi-f5iu-CHuP"
      },
      "source": [
        "Your tasks:\n",
        "> 1. [19pts] Complete the code in the spots where there is a comment \"#### YOUR CODE HERE ####\". There are instructions in the comments as to what the code should implement. With you completed code, you should be able to let the training run without errors. Note that the point of the exercise is the implementation; we should not necessarily expect great performance of the fine-tuned model (and the actual performance will *not* be graded). Often there are several correct ways of implementing something. Anything that is correct will be accepted.\n",
        "> 2. [4pts] Answer questions at the end of the execise."
      ]
    },
    {
      "cell_type": "code",
      "source": [
        "!pip install torch transformers datasets langchain-community langchain_nvidia_ai_endpoints==0.3.9 python-dotenv==1.1.0 torchrl llama-index bertviz wikipedia"
      ],
      "metadata": {
        "collapsed": true,
        "colab": {
          "base_uri": "https://localhost:8080/"
        },
        "id": "h_Sdz9caIKjZ",
        "outputId": "9d58e8d2-77bf-4cac-f446-76d6aaa25bab"
      },
      "execution_count": 1,
      "outputs": [
        {
          "output_type": "stream",
          "name": "stdout",
          "text": [
            "Requirement already satisfied: torch in /usr/local/lib/python3.11/dist-packages (2.6.0+cu124)\n",
            "Requirement already satisfied: transformers in /usr/local/lib/python3.11/dist-packages (4.51.3)\n",
            "Requirement already satisfied: datasets in /usr/local/lib/python3.11/dist-packages (3.6.0)\n",
            "Requirement already satisfied: langchain-community in /usr/local/lib/python3.11/dist-packages (0.3.24)\n",
            "Requirement already satisfied: langchain_nvidia_ai_endpoints==0.3.9 in /usr/local/lib/python3.11/dist-packages (0.3.9)\n",
            "Requirement already satisfied: python-dotenv==1.1.0 in /usr/local/lib/python3.11/dist-packages (1.1.0)\n",
            "Requirement already satisfied: torchrl in /usr/local/lib/python3.11/dist-packages (0.8.0)\n",
            "Requirement already satisfied: llama-index in /usr/local/lib/python3.11/dist-packages (0.12.35)\n",
            "Requirement already satisfied: bertviz in /usr/local/lib/python3.11/dist-packages (1.4.0)\n",
            "Requirement already satisfied: wikipedia in /usr/local/lib/python3.11/dist-packages (1.4.0)\n",
            "Requirement already satisfied: aiohttp<4.0.0,>=3.9.1 in /usr/local/lib/python3.11/dist-packages (from langchain_nvidia_ai_endpoints==0.3.9) (3.11.15)\n",
            "Requirement already satisfied: langchain-core<0.4,>=0.3.0 in /usr/local/lib/python3.11/dist-packages (from langchain_nvidia_ai_endpoints==0.3.9) (0.3.59)\n",
            "Requirement already satisfied: filelock in /usr/local/lib/python3.11/dist-packages (from torch) (3.18.0)\n",
            "Requirement already satisfied: typing-extensions>=4.10.0 in /usr/local/lib/python3.11/dist-packages (from torch) (4.13.2)\n",
            "Requirement already satisfied: networkx in /usr/local/lib/python3.11/dist-packages (from torch) (3.4.2)\n",
            "Requirement already satisfied: jinja2 in /usr/local/lib/python3.11/dist-packages (from torch) (3.1.6)\n",
            "Requirement already satisfied: fsspec in /usr/local/lib/python3.11/dist-packages (from torch) (2025.3.0)\n",
            "Requirement already satisfied: nvidia-cuda-nvrtc-cu12==12.4.127 in /usr/local/lib/python3.11/dist-packages (from torch) (12.4.127)\n",
            "Requirement already satisfied: nvidia-cuda-runtime-cu12==12.4.127 in /usr/local/lib/python3.11/dist-packages (from torch) (12.4.127)\n",
            "Requirement already satisfied: nvidia-cuda-cupti-cu12==12.4.127 in /usr/local/lib/python3.11/dist-packages (from torch) (12.4.127)\n",
            "Requirement already satisfied: nvidia-cudnn-cu12==9.1.0.70 in /usr/local/lib/python3.11/dist-packages (from torch) (9.1.0.70)\n",
            "Requirement already satisfied: nvidia-cublas-cu12==12.4.5.8 in /usr/local/lib/python3.11/dist-packages (from torch) (12.4.5.8)\n",
            "Requirement already satisfied: nvidia-cufft-cu12==11.2.1.3 in /usr/local/lib/python3.11/dist-packages (from torch) (11.2.1.3)\n",
            "Requirement already satisfied: nvidia-curand-cu12==10.3.5.147 in /usr/local/lib/python3.11/dist-packages (from torch) (10.3.5.147)\n",
            "Requirement already satisfied: nvidia-cusolver-cu12==11.6.1.9 in /usr/local/lib/python3.11/dist-packages (from torch) (11.6.1.9)\n",
            "Requirement already satisfied: nvidia-cusparse-cu12==12.3.1.170 in /usr/local/lib/python3.11/dist-packages (from torch) (12.3.1.170)\n",
            "Requirement already satisfied: nvidia-cusparselt-cu12==0.6.2 in /usr/local/lib/python3.11/dist-packages (from torch) (0.6.2)\n",
            "Requirement already satisfied: nvidia-nccl-cu12==2.21.5 in /usr/local/lib/python3.11/dist-packages (from torch) (2.21.5)\n",
            "Requirement already satisfied: nvidia-nvtx-cu12==12.4.127 in /usr/local/lib/python3.11/dist-packages (from torch) (12.4.127)\n",
            "Requirement already satisfied: nvidia-nvjitlink-cu12==12.4.127 in /usr/local/lib/python3.11/dist-packages (from torch) (12.4.127)\n",
            "Requirement already satisfied: triton==3.2.0 in /usr/local/lib/python3.11/dist-packages (from torch) (3.2.0)\n",
            "Requirement already satisfied: sympy==1.13.1 in /usr/local/lib/python3.11/dist-packages (from torch) (1.13.1)\n",
            "Requirement already satisfied: mpmath<1.4,>=1.1.0 in /usr/local/lib/python3.11/dist-packages (from sympy==1.13.1->torch) (1.3.0)\n",
            "Requirement already satisfied: huggingface-hub<1.0,>=0.30.0 in /usr/local/lib/python3.11/dist-packages (from transformers) (0.31.1)\n",
            "Requirement already satisfied: numpy>=1.17 in /usr/local/lib/python3.11/dist-packages (from transformers) (2.0.2)\n",
            "Requirement already satisfied: packaging>=20.0 in /usr/local/lib/python3.11/dist-packages (from transformers) (24.2)\n",
            "Requirement already satisfied: pyyaml>=5.1 in /usr/local/lib/python3.11/dist-packages (from transformers) (6.0.2)\n",
            "Requirement already satisfied: regex!=2019.12.17 in /usr/local/lib/python3.11/dist-packages (from transformers) (2024.11.6)\n",
            "Requirement already satisfied: requests in /usr/local/lib/python3.11/dist-packages (from transformers) (2.32.3)\n",
            "Requirement already satisfied: tokenizers<0.22,>=0.21 in /usr/local/lib/python3.11/dist-packages (from transformers) (0.21.1)\n",
            "Requirement already satisfied: safetensors>=0.4.3 in /usr/local/lib/python3.11/dist-packages (from transformers) (0.5.3)\n",
            "Requirement already satisfied: tqdm>=4.27 in /usr/local/lib/python3.11/dist-packages (from transformers) (4.67.1)\n",
            "Requirement already satisfied: pyarrow>=15.0.0 in /usr/local/lib/python3.11/dist-packages (from datasets) (18.1.0)\n",
            "Requirement already satisfied: dill<0.3.9,>=0.3.0 in /usr/local/lib/python3.11/dist-packages (from datasets) (0.3.7)\n",
            "Requirement already satisfied: pandas in /usr/local/lib/python3.11/dist-packages (from datasets) (2.2.2)\n",
            "Requirement already satisfied: xxhash in /usr/local/lib/python3.11/dist-packages (from datasets) (3.5.0)\n",
            "Requirement already satisfied: multiprocess<0.70.17 in /usr/local/lib/python3.11/dist-packages (from datasets) (0.70.15)\n",
            "Requirement already satisfied: langchain<1.0.0,>=0.3.25 in /usr/local/lib/python3.11/dist-packages (from langchain-community) (0.3.25)\n",
            "Requirement already satisfied: SQLAlchemy<3,>=1.4 in /usr/local/lib/python3.11/dist-packages (from langchain-community) (2.0.40)\n",
            "Requirement already satisfied: tenacity!=8.4.0,<10,>=8.1.0 in /usr/local/lib/python3.11/dist-packages (from langchain-community) (9.1.2)\n",
            "Requirement already satisfied: dataclasses-json<0.7,>=0.5.7 in /usr/local/lib/python3.11/dist-packages (from langchain-community) (0.6.7)\n",
            "Requirement already satisfied: pydantic-settings<3.0.0,>=2.4.0 in /usr/local/lib/python3.11/dist-packages (from langchain-community) (2.9.1)\n",
            "Requirement already satisfied: langsmith<0.4,>=0.1.125 in /usr/local/lib/python3.11/dist-packages (from langchain-community) (0.3.42)\n",
            "Requirement already satisfied: httpx-sse<1.0.0,>=0.4.0 in /usr/local/lib/python3.11/dist-packages (from langchain-community) (0.4.0)\n",
            "Requirement already satisfied: cloudpickle in /usr/local/lib/python3.11/dist-packages (from torchrl) (3.1.1)\n",
            "Requirement already satisfied: tensordict<0.9.0,>=0.8.1 in /usr/local/lib/python3.11/dist-packages (from torchrl) (0.8.2)\n",
            "Requirement already satisfied: llama-index-agent-openai<0.5,>=0.4.0 in /usr/local/lib/python3.11/dist-packages (from llama-index) (0.4.7)\n",
            "Requirement already satisfied: llama-index-cli<0.5,>=0.4.1 in /usr/local/lib/python3.11/dist-packages (from llama-index) (0.4.1)\n",
            "Requirement already satisfied: llama-index-core<0.13,>=0.12.35 in /usr/local/lib/python3.11/dist-packages (from llama-index) (0.12.35)\n",
            "Requirement already satisfied: llama-index-embeddings-openai<0.4,>=0.3.0 in /usr/local/lib/python3.11/dist-packages (from llama-index) (0.3.1)\n",
            "Requirement already satisfied: llama-index-indices-managed-llama-cloud>=0.4.0 in /usr/local/lib/python3.11/dist-packages (from llama-index) (0.6.11)\n",
            "Requirement already satisfied: llama-index-llms-openai<0.4,>=0.3.0 in /usr/local/lib/python3.11/dist-packages (from llama-index) (0.3.38)\n",
            "Requirement already satisfied: llama-index-multi-modal-llms-openai<0.5,>=0.4.0 in /usr/local/lib/python3.11/dist-packages (from llama-index) (0.4.3)\n",
            "Requirement already satisfied: llama-index-program-openai<0.4,>=0.3.0 in /usr/local/lib/python3.11/dist-packages (from llama-index) (0.3.1)\n",
            "Requirement already satisfied: llama-index-question-gen-openai<0.4,>=0.3.0 in /usr/local/lib/python3.11/dist-packages (from llama-index) (0.3.0)\n",
            "Requirement already satisfied: llama-index-readers-file<0.5,>=0.4.0 in /usr/local/lib/python3.11/dist-packages (from llama-index) (0.4.7)\n",
            "Requirement already satisfied: llama-index-readers-llama-parse>=0.4.0 in /usr/local/lib/python3.11/dist-packages (from llama-index) (0.4.0)\n",
            "Requirement already satisfied: nltk>3.8.1 in /usr/local/lib/python3.11/dist-packages (from llama-index) (3.9.1)\n",
            "Requirement already satisfied: boto3 in /usr/local/lib/python3.11/dist-packages (from bertviz) (1.38.14)\n",
            "Requirement already satisfied: sentencepiece in /usr/local/lib/python3.11/dist-packages (from bertviz) (0.2.0)\n",
            "Requirement already satisfied: beautifulsoup4 in /usr/local/lib/python3.11/dist-packages (from wikipedia) (4.13.4)\n",
            "Requirement already satisfied: aiohappyeyeballs>=2.3.0 in /usr/local/lib/python3.11/dist-packages (from aiohttp<4.0.0,>=3.9.1->langchain_nvidia_ai_endpoints==0.3.9) (2.6.1)\n",
            "Requirement already satisfied: aiosignal>=1.1.2 in /usr/local/lib/python3.11/dist-packages (from aiohttp<4.0.0,>=3.9.1->langchain_nvidia_ai_endpoints==0.3.9) (1.3.2)\n",
            "Requirement already satisfied: attrs>=17.3.0 in /usr/local/lib/python3.11/dist-packages (from aiohttp<4.0.0,>=3.9.1->langchain_nvidia_ai_endpoints==0.3.9) (25.3.0)\n",
            "Requirement already satisfied: frozenlist>=1.1.1 in /usr/local/lib/python3.11/dist-packages (from aiohttp<4.0.0,>=3.9.1->langchain_nvidia_ai_endpoints==0.3.9) (1.6.0)\n",
            "Requirement already satisfied: multidict<7.0,>=4.5 in /usr/local/lib/python3.11/dist-packages (from aiohttp<4.0.0,>=3.9.1->langchain_nvidia_ai_endpoints==0.3.9) (6.4.3)\n",
            "Requirement already satisfied: propcache>=0.2.0 in /usr/local/lib/python3.11/dist-packages (from aiohttp<4.0.0,>=3.9.1->langchain_nvidia_ai_endpoints==0.3.9) (0.3.1)\n",
            "Requirement already satisfied: yarl<2.0,>=1.17.0 in /usr/local/lib/python3.11/dist-packages (from aiohttp<4.0.0,>=3.9.1->langchain_nvidia_ai_endpoints==0.3.9) (1.20.0)\n",
            "Requirement already satisfied: marshmallow<4.0.0,>=3.18.0 in /usr/local/lib/python3.11/dist-packages (from dataclasses-json<0.7,>=0.5.7->langchain-community) (3.26.1)\n",
            "Requirement already satisfied: typing-inspect<1,>=0.4.0 in /usr/local/lib/python3.11/dist-packages (from dataclasses-json<0.7,>=0.5.7->langchain-community) (0.9.0)\n",
            "Requirement already satisfied: hf-xet<2.0.0,>=1.1.0 in /usr/local/lib/python3.11/dist-packages (from huggingface-hub<1.0,>=0.30.0->transformers) (1.1.0)\n",
            "Requirement already satisfied: langchain-text-splitters<1.0.0,>=0.3.8 in /usr/local/lib/python3.11/dist-packages (from langchain<1.0.0,>=0.3.25->langchain-community) (0.3.8)\n",
            "Requirement already satisfied: pydantic<3.0.0,>=2.7.4 in /usr/local/lib/python3.11/dist-packages (from langchain<1.0.0,>=0.3.25->langchain-community) (2.11.4)\n",
            "Requirement already satisfied: jsonpatch<2.0,>=1.33 in /usr/local/lib/python3.11/dist-packages (from langchain-core<0.4,>=0.3.0->langchain_nvidia_ai_endpoints==0.3.9) (1.33)\n",
            "Requirement already satisfied: httpx<1,>=0.23.0 in /usr/local/lib/python3.11/dist-packages (from langsmith<0.4,>=0.1.125->langchain-community) (0.28.1)\n",
            "Requirement already satisfied: orjson<4.0.0,>=3.9.14 in /usr/local/lib/python3.11/dist-packages (from langsmith<0.4,>=0.1.125->langchain-community) (3.10.18)\n",
            "Requirement already satisfied: requests-toolbelt<2.0.0,>=1.0.0 in /usr/local/lib/python3.11/dist-packages (from langsmith<0.4,>=0.1.125->langchain-community) (1.0.0)\n",
            "Requirement already satisfied: zstandard<0.24.0,>=0.23.0 in /usr/local/lib/python3.11/dist-packages (from langsmith<0.4,>=0.1.125->langchain-community) (0.23.0)\n",
            "Requirement already satisfied: openai>=1.14.0 in /usr/local/lib/python3.11/dist-packages (from llama-index-agent-openai<0.5,>=0.4.0->llama-index) (1.77.0)\n",
            "Requirement already satisfied: aiosqlite in /usr/local/lib/python3.11/dist-packages (from llama-index-core<0.13,>=0.12.35->llama-index) (0.21.0)\n",
            "Requirement already satisfied: banks<3,>=2.0.0 in /usr/local/lib/python3.11/dist-packages (from llama-index-core<0.13,>=0.12.35->llama-index) (2.1.2)\n",
            "Requirement already satisfied: deprecated>=1.2.9.3 in /usr/local/lib/python3.11/dist-packages (from llama-index-core<0.13,>=0.12.35->llama-index) (1.2.18)\n",
            "Requirement already satisfied: dirtyjson<2,>=1.0.8 in /usr/local/lib/python3.11/dist-packages (from llama-index-core<0.13,>=0.12.35->llama-index) (1.0.8)\n",
            "Requirement already satisfied: filetype<2,>=1.2.0 in /usr/local/lib/python3.11/dist-packages (from llama-index-core<0.13,>=0.12.35->llama-index) (1.2.0)\n",
            "Requirement already satisfied: nest-asyncio<2,>=1.5.8 in /usr/local/lib/python3.11/dist-packages (from llama-index-core<0.13,>=0.12.35->llama-index) (1.6.0)\n",
            "Requirement already satisfied: pillow>=9.0.0 in /usr/local/lib/python3.11/dist-packages (from llama-index-core<0.13,>=0.12.35->llama-index) (11.2.1)\n",
            "Requirement already satisfied: tiktoken>=0.7.0 in /usr/local/lib/python3.11/dist-packages (from llama-index-core<0.13,>=0.12.35->llama-index) (0.9.0)\n",
            "Requirement already satisfied: wrapt in /usr/local/lib/python3.11/dist-packages (from llama-index-core<0.13,>=0.12.35->llama-index) (1.17.2)\n",
            "Requirement already satisfied: llama-cloud<0.2.0,>=0.1.13 in /usr/local/lib/python3.11/dist-packages (from llama-index-indices-managed-llama-cloud>=0.4.0->llama-index) (0.1.19)\n",
            "Requirement already satisfied: pypdf<6.0.0,>=5.1.0 in /usr/local/lib/python3.11/dist-packages (from llama-index-readers-file<0.5,>=0.4.0->llama-index) (5.5.0)\n",
            "Requirement already satisfied: striprtf<0.0.27,>=0.0.26 in /usr/local/lib/python3.11/dist-packages (from llama-index-readers-file<0.5,>=0.4.0->llama-index) (0.0.26)\n",
            "Requirement already satisfied: soupsieve>1.2 in /usr/local/lib/python3.11/dist-packages (from beautifulsoup4->wikipedia) (2.7)\n",
            "Requirement already satisfied: llama-parse>=0.5.0 in /usr/local/lib/python3.11/dist-packages (from llama-index-readers-llama-parse>=0.4.0->llama-index) (0.6.22)\n",
            "Requirement already satisfied: click in /usr/local/lib/python3.11/dist-packages (from nltk>3.8.1->llama-index) (8.1.8)\n",
            "Requirement already satisfied: joblib in /usr/local/lib/python3.11/dist-packages (from nltk>3.8.1->llama-index) (1.5.0)\n",
            "Requirement already satisfied: typing-inspection>=0.4.0 in /usr/local/lib/python3.11/dist-packages (from pydantic-settings<3.0.0,>=2.4.0->langchain-community) (0.4.0)\n",
            "Requirement already satisfied: charset-normalizer<4,>=2 in /usr/local/lib/python3.11/dist-packages (from requests->transformers) (3.4.2)\n",
            "Requirement already satisfied: idna<4,>=2.5 in /usr/local/lib/python3.11/dist-packages (from requests->transformers) (3.10)\n",
            "Requirement already satisfied: urllib3<3,>=1.21.1 in /usr/local/lib/python3.11/dist-packages (from requests->transformers) (2.4.0)\n",
            "Requirement already satisfied: certifi>=2017.4.17 in /usr/local/lib/python3.11/dist-packages (from requests->transformers) (2025.4.26)\n",
            "Requirement already satisfied: greenlet>=1 in /usr/local/lib/python3.11/dist-packages (from SQLAlchemy<3,>=1.4->langchain-community) (3.2.1)\n",
            "Requirement already satisfied: importlib_metadata in /usr/local/lib/python3.11/dist-packages (from tensordict<0.9.0,>=0.8.1->torchrl) (8.7.0)\n",
            "Requirement already satisfied: botocore<1.39.0,>=1.38.14 in /usr/local/lib/python3.11/dist-packages (from boto3->bertviz) (1.38.14)\n",
            "Requirement already satisfied: jmespath<2.0.0,>=0.7.1 in /usr/local/lib/python3.11/dist-packages (from boto3->bertviz) (1.0.1)\n",
            "Requirement already satisfied: s3transfer<0.13.0,>=0.12.0 in /usr/local/lib/python3.11/dist-packages (from boto3->bertviz) (0.12.0)\n",
            "Requirement already satisfied: MarkupSafe>=2.0 in /usr/local/lib/python3.11/dist-packages (from jinja2->torch) (3.0.2)\n",
            "Requirement already satisfied: python-dateutil>=2.8.2 in /usr/local/lib/python3.11/dist-packages (from pandas->datasets) (2.9.0.post0)\n",
            "Requirement already satisfied: pytz>=2020.1 in /usr/local/lib/python3.11/dist-packages (from pandas->datasets) (2025.2)\n",
            "Requirement already satisfied: tzdata>=2022.7 in /usr/local/lib/python3.11/dist-packages (from pandas->datasets) (2025.2)\n",
            "Requirement already satisfied: griffe in /usr/local/lib/python3.11/dist-packages (from banks<3,>=2.0.0->llama-index-core<0.13,>=0.12.35->llama-index) (1.7.3)\n",
            "Requirement already satisfied: platformdirs in /usr/local/lib/python3.11/dist-packages (from banks<3,>=2.0.0->llama-index-core<0.13,>=0.12.35->llama-index) (4.3.8)\n",
            "Requirement already satisfied: anyio in /usr/local/lib/python3.11/dist-packages (from httpx<1,>=0.23.0->langsmith<0.4,>=0.1.125->langchain-community) (4.9.0)\n",
            "Requirement already satisfied: httpcore==1.* in /usr/local/lib/python3.11/dist-packages (from httpx<1,>=0.23.0->langsmith<0.4,>=0.1.125->langchain-community) (1.0.9)\n",
            "Requirement already satisfied: h11>=0.16 in /usr/local/lib/python3.11/dist-packages (from httpcore==1.*->httpx<1,>=0.23.0->langsmith<0.4,>=0.1.125->langchain-community) (0.16.0)\n",
            "Requirement already satisfied: jsonpointer>=1.9 in /usr/local/lib/python3.11/dist-packages (from jsonpatch<2.0,>=1.33->langchain-core<0.4,>=0.3.0->langchain_nvidia_ai_endpoints==0.3.9) (3.0.0)\n",
            "Requirement already satisfied: llama-cloud-services>=0.6.22 in /usr/local/lib/python3.11/dist-packages (from llama-parse>=0.5.0->llama-index-readers-llama-parse>=0.4.0->llama-index) (0.6.22)\n",
            "Requirement already satisfied: distro<2,>=1.7.0 in /usr/local/lib/python3.11/dist-packages (from openai>=1.14.0->llama-index-agent-openai<0.5,>=0.4.0->llama-index) (1.9.0)\n",
            "Requirement already satisfied: jiter<1,>=0.4.0 in /usr/local/lib/python3.11/dist-packages (from openai>=1.14.0->llama-index-agent-openai<0.5,>=0.4.0->llama-index) (0.9.0)\n",
            "Requirement already satisfied: sniffio in /usr/local/lib/python3.11/dist-packages (from openai>=1.14.0->llama-index-agent-openai<0.5,>=0.4.0->llama-index) (1.3.1)\n",
            "Requirement already satisfied: annotated-types>=0.6.0 in /usr/local/lib/python3.11/dist-packages (from pydantic<3.0.0,>=2.7.4->langchain<1.0.0,>=0.3.25->langchain-community) (0.7.0)\n",
            "Requirement already satisfied: pydantic-core==2.33.2 in /usr/local/lib/python3.11/dist-packages (from pydantic<3.0.0,>=2.7.4->langchain<1.0.0,>=0.3.25->langchain-community) (2.33.2)\n",
            "Requirement already satisfied: six>=1.5 in /usr/local/lib/python3.11/dist-packages (from python-dateutil>=2.8.2->pandas->datasets) (1.17.0)\n",
            "Requirement already satisfied: mypy-extensions>=0.3.0 in /usr/local/lib/python3.11/dist-packages (from typing-inspect<1,>=0.4.0->dataclasses-json<0.7,>=0.5.7->langchain-community) (1.1.0)\n",
            "Requirement already satisfied: zipp>=3.20 in /usr/local/lib/python3.11/dist-packages (from importlib_metadata->tensordict<0.9.0,>=0.8.1->torchrl) (3.21.0)\n",
            "Requirement already satisfied: colorama>=0.4 in /usr/local/lib/python3.11/dist-packages (from griffe->banks<3,>=2.0.0->llama-index-core<0.13,>=0.12.35->llama-index) (0.4.6)\n"
          ]
        }
      ]
    },
    {
      "cell_type": "code",
      "source": [
        "!pip install datasets --upgrade"
      ],
      "metadata": {
        "colab": {
          "base_uri": "https://localhost:8080/"
        },
        "id": "1AjpdP2XZ8pE",
        "outputId": "6a56a952-4e2a-4c52-f5dd-f3228e1a0b6a"
      },
      "execution_count": 2,
      "outputs": [
        {
          "output_type": "stream",
          "name": "stdout",
          "text": [
            "Requirement already satisfied: datasets in /usr/local/lib/python3.11/dist-packages (3.6.0)\n",
            "Requirement already satisfied: filelock in /usr/local/lib/python3.11/dist-packages (from datasets) (3.18.0)\n",
            "Requirement already satisfied: numpy>=1.17 in /usr/local/lib/python3.11/dist-packages (from datasets) (2.0.2)\n",
            "Requirement already satisfied: pyarrow>=15.0.0 in /usr/local/lib/python3.11/dist-packages (from datasets) (18.1.0)\n",
            "Requirement already satisfied: dill<0.3.9,>=0.3.0 in /usr/local/lib/python3.11/dist-packages (from datasets) (0.3.7)\n",
            "Requirement already satisfied: pandas in /usr/local/lib/python3.11/dist-packages (from datasets) (2.2.2)\n",
            "Requirement already satisfied: requests>=2.32.2 in /usr/local/lib/python3.11/dist-packages (from datasets) (2.32.3)\n",
            "Requirement already satisfied: tqdm>=4.66.3 in /usr/local/lib/python3.11/dist-packages (from datasets) (4.67.1)\n",
            "Requirement already satisfied: xxhash in /usr/local/lib/python3.11/dist-packages (from datasets) (3.5.0)\n",
            "Requirement already satisfied: multiprocess<0.70.17 in /usr/local/lib/python3.11/dist-packages (from datasets) (0.70.15)\n",
            "Requirement already satisfied: fsspec<=2025.3.0,>=2023.1.0 in /usr/local/lib/python3.11/dist-packages (from fsspec[http]<=2025.3.0,>=2023.1.0->datasets) (2025.3.0)\n",
            "Requirement already satisfied: huggingface-hub>=0.24.0 in /usr/local/lib/python3.11/dist-packages (from datasets) (0.31.1)\n",
            "Requirement already satisfied: packaging in /usr/local/lib/python3.11/dist-packages (from datasets) (24.2)\n",
            "Requirement already satisfied: pyyaml>=5.1 in /usr/local/lib/python3.11/dist-packages (from datasets) (6.0.2)\n",
            "Requirement already satisfied: aiohttp!=4.0.0a0,!=4.0.0a1 in /usr/local/lib/python3.11/dist-packages (from fsspec[http]<=2025.3.0,>=2023.1.0->datasets) (3.11.15)\n",
            "Requirement already satisfied: typing-extensions>=3.7.4.3 in /usr/local/lib/python3.11/dist-packages (from huggingface-hub>=0.24.0->datasets) (4.13.2)\n",
            "Requirement already satisfied: hf-xet<2.0.0,>=1.1.0 in /usr/local/lib/python3.11/dist-packages (from huggingface-hub>=0.24.0->datasets) (1.1.0)\n",
            "Requirement already satisfied: charset-normalizer<4,>=2 in /usr/local/lib/python3.11/dist-packages (from requests>=2.32.2->datasets) (3.4.2)\n",
            "Requirement already satisfied: idna<4,>=2.5 in /usr/local/lib/python3.11/dist-packages (from requests>=2.32.2->datasets) (3.10)\n",
            "Requirement already satisfied: urllib3<3,>=1.21.1 in /usr/local/lib/python3.11/dist-packages (from requests>=2.32.2->datasets) (2.4.0)\n",
            "Requirement already satisfied: certifi>=2017.4.17 in /usr/local/lib/python3.11/dist-packages (from requests>=2.32.2->datasets) (2025.4.26)\n",
            "Requirement already satisfied: python-dateutil>=2.8.2 in /usr/local/lib/python3.11/dist-packages (from pandas->datasets) (2.9.0.post0)\n",
            "Requirement already satisfied: pytz>=2020.1 in /usr/local/lib/python3.11/dist-packages (from pandas->datasets) (2025.2)\n",
            "Requirement already satisfied: tzdata>=2022.7 in /usr/local/lib/python3.11/dist-packages (from pandas->datasets) (2025.2)\n",
            "Requirement already satisfied: aiohappyeyeballs>=2.3.0 in /usr/local/lib/python3.11/dist-packages (from aiohttp!=4.0.0a0,!=4.0.0a1->fsspec[http]<=2025.3.0,>=2023.1.0->datasets) (2.6.1)\n",
            "Requirement already satisfied: aiosignal>=1.1.2 in /usr/local/lib/python3.11/dist-packages (from aiohttp!=4.0.0a0,!=4.0.0a1->fsspec[http]<=2025.3.0,>=2023.1.0->datasets) (1.3.2)\n",
            "Requirement already satisfied: attrs>=17.3.0 in /usr/local/lib/python3.11/dist-packages (from aiohttp!=4.0.0a0,!=4.0.0a1->fsspec[http]<=2025.3.0,>=2023.1.0->datasets) (25.3.0)\n",
            "Requirement already satisfied: frozenlist>=1.1.1 in /usr/local/lib/python3.11/dist-packages (from aiohttp!=4.0.0a0,!=4.0.0a1->fsspec[http]<=2025.3.0,>=2023.1.0->datasets) (1.6.0)\n",
            "Requirement already satisfied: multidict<7.0,>=4.5 in /usr/local/lib/python3.11/dist-packages (from aiohttp!=4.0.0a0,!=4.0.0a1->fsspec[http]<=2025.3.0,>=2023.1.0->datasets) (6.4.3)\n",
            "Requirement already satisfied: propcache>=0.2.0 in /usr/local/lib/python3.11/dist-packages (from aiohttp!=4.0.0a0,!=4.0.0a1->fsspec[http]<=2025.3.0,>=2023.1.0->datasets) (0.3.1)\n",
            "Requirement already satisfied: yarl<2.0,>=1.17.0 in /usr/local/lib/python3.11/dist-packages (from aiohttp!=4.0.0a0,!=4.0.0a1->fsspec[http]<=2025.3.0,>=2023.1.0->datasets) (1.20.0)\n",
            "Requirement already satisfied: six>=1.5 in /usr/local/lib/python3.11/dist-packages (from python-dateutil>=2.8.2->pandas->datasets) (1.17.0)\n"
          ]
        }
      ]
    },
    {
      "cell_type": "code",
      "execution_count": 3,
      "metadata": {
        "id": "63KtPjt7CHuP"
      },
      "outputs": [],
      "source": [
        "# note: if you are on Colab, you might need to install some requirements\n",
        "# as we did in Sheet 1.1. Otherwise, don't forget to activate your local environment\n",
        "\n",
        "from datasets import load_dataset\n",
        "from transformers import AutoTokenizer, AutoModelForCausalLM, GPT2Tokenizer, GPT2LMHeadModel, DataCollatorForLanguageModeling\n",
        "import torch\n",
        "from torch.utils.data import DataLoader\n",
        "from torch.utils.data import Dataset\n",
        "import numpy as np\n",
        "import matplotlib.pyplot as plt\n",
        "from tqdm import tqdm\n"
      ]
    },
    {
      "cell_type": "code",
      "execution_count": 4,
      "metadata": {
        "collapsed": true,
        "colab": {
          "base_uri": "https://localhost:8080/"
        },
        "id": "aF-8RW8NCHuP",
        "outputId": "85df76ae-ec55-4329-bd22-7d813f307781"
      },
      "outputs": [
        {
          "output_type": "stream",
          "name": "stdout",
          "text": [
            "Requirement already satisfied: accelerate in /usr/local/lib/python3.11/dist-packages (1.6.0)\n",
            "Requirement already satisfied: numpy<3.0.0,>=1.17 in /usr/local/lib/python3.11/dist-packages (from accelerate) (2.0.2)\n",
            "Requirement already satisfied: packaging>=20.0 in /usr/local/lib/python3.11/dist-packages (from accelerate) (24.2)\n",
            "Requirement already satisfied: psutil in /usr/local/lib/python3.11/dist-packages (from accelerate) (5.9.5)\n",
            "Requirement already satisfied: pyyaml in /usr/local/lib/python3.11/dist-packages (from accelerate) (6.0.2)\n",
            "Requirement already satisfied: torch>=2.0.0 in /usr/local/lib/python3.11/dist-packages (from accelerate) (2.6.0+cu124)\n",
            "Requirement already satisfied: huggingface-hub>=0.21.0 in /usr/local/lib/python3.11/dist-packages (from accelerate) (0.31.1)\n",
            "Requirement already satisfied: safetensors>=0.4.3 in /usr/local/lib/python3.11/dist-packages (from accelerate) (0.5.3)\n",
            "Requirement already satisfied: filelock in /usr/local/lib/python3.11/dist-packages (from huggingface-hub>=0.21.0->accelerate) (3.18.0)\n",
            "Requirement already satisfied: fsspec>=2023.5.0 in /usr/local/lib/python3.11/dist-packages (from huggingface-hub>=0.21.0->accelerate) (2025.3.0)\n",
            "Requirement already satisfied: requests in /usr/local/lib/python3.11/dist-packages (from huggingface-hub>=0.21.0->accelerate) (2.32.3)\n",
            "Requirement already satisfied: tqdm>=4.42.1 in /usr/local/lib/python3.11/dist-packages (from huggingface-hub>=0.21.0->accelerate) (4.67.1)\n",
            "Requirement already satisfied: typing-extensions>=3.7.4.3 in /usr/local/lib/python3.11/dist-packages (from huggingface-hub>=0.21.0->accelerate) (4.13.2)\n",
            "Requirement already satisfied: hf-xet<2.0.0,>=1.1.0 in /usr/local/lib/python3.11/dist-packages (from huggingface-hub>=0.21.0->accelerate) (1.1.0)\n",
            "Requirement already satisfied: networkx in /usr/local/lib/python3.11/dist-packages (from torch>=2.0.0->accelerate) (3.4.2)\n",
            "Requirement already satisfied: jinja2 in /usr/local/lib/python3.11/dist-packages (from torch>=2.0.0->accelerate) (3.1.6)\n",
            "Requirement already satisfied: nvidia-cuda-nvrtc-cu12==12.4.127 in /usr/local/lib/python3.11/dist-packages (from torch>=2.0.0->accelerate) (12.4.127)\n",
            "Requirement already satisfied: nvidia-cuda-runtime-cu12==12.4.127 in /usr/local/lib/python3.11/dist-packages (from torch>=2.0.0->accelerate) (12.4.127)\n",
            "Requirement already satisfied: nvidia-cuda-cupti-cu12==12.4.127 in /usr/local/lib/python3.11/dist-packages (from torch>=2.0.0->accelerate) (12.4.127)\n",
            "Requirement already satisfied: nvidia-cudnn-cu12==9.1.0.70 in /usr/local/lib/python3.11/dist-packages (from torch>=2.0.0->accelerate) (9.1.0.70)\n",
            "Requirement already satisfied: nvidia-cublas-cu12==12.4.5.8 in /usr/local/lib/python3.11/dist-packages (from torch>=2.0.0->accelerate) (12.4.5.8)\n",
            "Requirement already satisfied: nvidia-cufft-cu12==11.2.1.3 in /usr/local/lib/python3.11/dist-packages (from torch>=2.0.0->accelerate) (11.2.1.3)\n",
            "Requirement already satisfied: nvidia-curand-cu12==10.3.5.147 in /usr/local/lib/python3.11/dist-packages (from torch>=2.0.0->accelerate) (10.3.5.147)\n",
            "Requirement already satisfied: nvidia-cusolver-cu12==11.6.1.9 in /usr/local/lib/python3.11/dist-packages (from torch>=2.0.0->accelerate) (11.6.1.9)\n",
            "Requirement already satisfied: nvidia-cusparse-cu12==12.3.1.170 in /usr/local/lib/python3.11/dist-packages (from torch>=2.0.0->accelerate) (12.3.1.170)\n",
            "Requirement already satisfied: nvidia-cusparselt-cu12==0.6.2 in /usr/local/lib/python3.11/dist-packages (from torch>=2.0.0->accelerate) (0.6.2)\n",
            "Requirement already satisfied: nvidia-nccl-cu12==2.21.5 in /usr/local/lib/python3.11/dist-packages (from torch>=2.0.0->accelerate) (2.21.5)\n",
            "Requirement already satisfied: nvidia-nvtx-cu12==12.4.127 in /usr/local/lib/python3.11/dist-packages (from torch>=2.0.0->accelerate) (12.4.127)\n",
            "Requirement already satisfied: nvidia-nvjitlink-cu12==12.4.127 in /usr/local/lib/python3.11/dist-packages (from torch>=2.0.0->accelerate) (12.4.127)\n",
            "Requirement already satisfied: triton==3.2.0 in /usr/local/lib/python3.11/dist-packages (from torch>=2.0.0->accelerate) (3.2.0)\n",
            "Requirement already satisfied: sympy==1.13.1 in /usr/local/lib/python3.11/dist-packages (from torch>=2.0.0->accelerate) (1.13.1)\n",
            "Requirement already satisfied: mpmath<1.4,>=1.1.0 in /usr/local/lib/python3.11/dist-packages (from sympy==1.13.1->torch>=2.0.0->accelerate) (1.3.0)\n",
            "Requirement already satisfied: MarkupSafe>=2.0 in /usr/local/lib/python3.11/dist-packages (from jinja2->torch>=2.0.0->accelerate) (3.0.2)\n",
            "Requirement already satisfied: charset-normalizer<4,>=2 in /usr/local/lib/python3.11/dist-packages (from requests->huggingface-hub>=0.21.0->accelerate) (3.4.2)\n",
            "Requirement already satisfied: idna<4,>=2.5 in /usr/local/lib/python3.11/dist-packages (from requests->huggingface-hub>=0.21.0->accelerate) (3.10)\n",
            "Requirement already satisfied: urllib3<3,>=1.21.1 in /usr/local/lib/python3.11/dist-packages (from requests->huggingface-hub>=0.21.0->accelerate) (2.4.0)\n",
            "Requirement already satisfied: certifi>=2017.4.17 in /usr/local/lib/python3.11/dist-packages (from requests->huggingface-hub>=0.21.0->accelerate) (2025.4.26)\n"
          ]
        }
      ],
      "source": [
        "# additioanlly, we need to install accelerate\n",
        "# uncomment and run the following line on Colab or in your environment\n",
        "!pip install accelerate\n",
        "# NOTE: in a notebook, reloading of the kernel might be required after installation if you get dependency errors with the transformers package"
      ]
    },
    {
      "cell_type": "code",
      "execution_count": 16,
      "metadata": {
        "id": "TRlKl7_9CHuP"
      },
      "outputs": [],
      "source": [
        "### 1. Prepare data with data prepping steps from sheet 1.1\n",
        "\n",
        "# a. Acquiring data\n",
        "# b. (minimally) exploring dataset\n",
        "# c. cleaning / wrangling data (combines step 4 from sheet 1.1 and step 1.1 above)\n",
        "# d. splitting data into training and validation set (we will not do any hyperparameter tuning)\n",
        "# (we don't need further training set wrangling)\n",
        "# e. tokenizing data and making sure it can be batched (i.e., conversted into 2d tensors)\n",
        "# this will also happen in our custom Dataset class (common practice when working with text data)"
      ]
    },
    {
      "cell_type": "code",
      "execution_count": 5,
      "metadata": {
        "colab": {
          "base_uri": "https://localhost:8080/"
        },
        "id": "sbarjqfxCHuQ",
        "outputId": "057a7bac-5cf6-4cbd-dbe2-3e2f738af699"
      },
      "outputs": [
        {
          "output_type": "stream",
          "name": "stderr",
          "text": [
            "/usr/local/lib/python3.11/dist-packages/huggingface_hub/utils/_auth.py:94: UserWarning: \n",
            "The secret `HF_TOKEN` does not exist in your Colab secrets.\n",
            "To authenticate with the Hugging Face Hub, create a token in your settings tab (https://huggingface.co/settings/tokens), set it as secret in your Google Colab and restart your session.\n",
            "You will be able to reuse this secret in all of your notebooks.\n",
            "Please note that authentication is recommended but still optional to access public models or datasets.\n",
            "  warnings.warn(\n"
          ]
        }
      ],
      "source": [
        "# downaload dataset from HF\n",
        "\n",
        "dataset = load_dataset(\"tau/commonsense_qa\")"
      ]
    },
    {
      "cell_type": "code",
      "execution_count": 6,
      "metadata": {
        "colab": {
          "base_uri": "https://localhost:8080/"
        },
        "id": "d9p7Y3S7CHuQ",
        "outputId": "e1f34202-d526-4aab-aec2-e9cd987cfb45"
      },
      "outputs": [
        {
          "output_type": "stream",
          "name": "stdout",
          "text": [
            "dict_keys(['train', 'validation', 'test'])\n",
            "{'id': ['075e483d21c29a511267ef62bedc0461', '61fe6e879ff18686d7552425a36344c8', '4c1cb0e95b99f72d55c068ba0255c54d', '02e821a3e53cb320790950aab4489e85', '23505889b94e880c3e89cff4ba119860'], 'question': ['The sanctions against the school were a punishing blow, and they seemed to what the efforts the school had made to change?', 'Sammy wanted to go to where the people were.  Where might he go?', 'To locate a choker not located in a jewelry box or boutique where would you go?', 'Google Maps and other highway and street GPS services have replaced what?', 'The fox walked from the city into the forest, what was it looking for?'], 'question_concept': ['punishing', 'people', 'choker', 'highway', 'fox'], 'choices': [{'label': ['A', 'B', 'C', 'D', 'E'], 'text': ['ignore', 'enforce', 'authoritarian', 'yell at', 'avoid']}, {'label': ['A', 'B', 'C', 'D', 'E'], 'text': ['race track', 'populated areas', 'the desert', 'apartment', 'roadblock']}, {'label': ['A', 'B', 'C', 'D', 'E'], 'text': ['jewelry store', 'neck', 'jewlery box', 'jewelry box', 'boutique']}, {'label': ['A', 'B', 'C', 'D', 'E'], 'text': ['united states', 'mexico', 'countryside', 'atlas', 'oceans']}, {'label': ['A', 'B', 'C', 'D', 'E'], 'text': ['pretty flowers.', 'hen house', 'natural habitat', 'storybook', 'dense forest']}], 'answerKey': ['A', 'B', 'A', 'D', 'C']}\n",
            "{'id': ['1afa02df02c908a558b4036e80242fac', 'a7ab086045575bb497933726e4e6ad28', 'b8c0a4703079cf661d7261a60a1bcbff', 'e68fb2448fd74e402aae9982aa76e527', '2435de612dd69f2012b9e40d6af4ce38'], 'question': ['A revolving door is convenient for two direction travel, but it also serves as a security measure at a what?', 'What do people aim to do at work?', 'Where would you find magazines along side many other printed works?', 'Where are  you likely to find a hamburger?', 'James was looking for a good place to buy farmland.  Where might he look?'], 'question_concept': ['revolving door', 'people', 'magazines', 'hamburger', 'farmland'], 'choices': [{'label': ['A', 'B', 'C', 'D', 'E'], 'text': ['bank', 'library', 'department store', 'mall', 'new york']}, {'label': ['A', 'B', 'C', 'D', 'E'], 'text': ['complete job', 'learn from each other', 'kill animals', 'wear hats', 'talk to each other']}, {'label': ['A', 'B', 'C', 'D', 'E'], 'text': ['doctor', 'bookstore', 'market', 'train station', 'mortuary']}, {'label': ['A', 'B', 'C', 'D', 'E'], 'text': ['fast food restaurant', 'pizza', 'ground up dead cows', 'mouth', 'cow carcus']}, {'label': ['A', 'B', 'C', 'D', 'E'], 'text': ['midwest', 'countryside', 'estate', 'farming areas', 'illinois']}], 'answerKey': ['A', 'A', 'B', 'A', 'A']}\n",
            "{'id': ['90b30172e645ff91f7171a048582eb8b', '000990552527b1353f98f1e1a7dfc643', 'dca0f2859f3c3dd43a9b2bfeff4936a8', '8795a949b39702af0e452c9e1229046d', '1f74ea1f73b9f5d91a665b4d90218a6e'], 'question': ['The townhouse was a hard sell for the realtor, it was right next to a high rise what?', 'There is a star at the center of what group of celestial bodies?', 'What were the kids doing as they looked up at the sky and clouds?', 'The person taught an advanced class only for who?', 'What is a likely consequence of ignorance of rules?'], 'question_concept': ['townhouse', 'star', 'kids', 'person', 'ignorance'], 'choices': [{'label': ['A', 'B', 'C', 'D', 'E'], 'text': ['suburban development', 'apartment building', 'bus stop', 'michigan', 'suburbs']}, {'label': ['A', 'B', 'C', 'D', 'E'], 'text': ['hollywood', 'skyline', 'outer space', 'constellation', 'solar system']}, {'label': ['A', 'B', 'C', 'D', 'E'], 'text': ['ponder', 'become adults', 'wonder about', 'open door', 'distracting']}, {'label': ['A', 'B', 'C', 'D', 'E'], 'text': ['own house', 'own self', 'wonderful memories', 'know truth', 'intelligent children']}, {'label': ['A', 'B', 'C', 'D', 'E'], 'text': ['find truth', 'hostility', 'bliss', 'accidents', 'damage']}], 'answerKey': ['', '', '', '', '']}\n"
          ]
        }
      ],
      "source": [
        "# inspect dataset\n",
        "print(dataset.keys())\n",
        "# print a sample from the dataset\n",
        "### YOUR CODE HERE ####\n",
        "train_dataset=dataset[\"train\"]\n",
        "print(train_dataset[:5])\n",
        "val_dataset=dataset[\"validation\"]\n",
        "print(val_dataset[:5])\n",
        "test_dataset=dataset[\"test\"]\n",
        "print(test_dataset[:5])"
      ]
    },
    {
      "cell_type": "markdown",
      "metadata": {
        "id": "T6Ft43i-CHuQ"
      },
      "source": [
        "Note that the test split provided with the dataset does not have ground truth answer labels. Therefore, we will only use the validation split to asssess the performance of our model."
      ]
    },
    {
      "cell_type": "code",
      "execution_count": 7,
      "metadata": {
        "id": "igGMW3lICHuQ"
      },
      "outputs": [],
      "source": [
        "# load tokenizer\n",
        "tokenizer = AutoTokenizer.from_pretrained(\"EleutherAI/pythia-160m\")\n",
        "tokenizer.pad_token = tokenizer.eos_token\n",
        "# set padding side to be left because we are doing causal LM\n",
        "tokenizer.padding_side = \"left\""
      ]
    },
    {
      "cell_type": "code",
      "execution_count": 8,
      "metadata": {
        "id": "-clhAkrjCHuQ"
      },
      "outputs": [],
      "source": [
        "def massage_input_text(example):\n",
        "    \"\"\"\n",
        "    Helper for converting input examples which have\n",
        "    a separate qquestion, labels, answer options\n",
        "    into a single string.\n",
        "\n",
        "    Arguments\n",
        "    ---------\n",
        "    example: dict\n",
        "        Sample input from the dataset which contains the\n",
        "        question, answer labels (e.g. A, B, C, D),\n",
        "        the answer options for the question, and which\n",
        "        of the answers is correct.\n",
        "\n",
        "    Returns\n",
        "    -------\n",
        "    input_text: str\n",
        "        Formatted training text which contains the question,\n",
        "        the forwatted answer options (e.g., 'A. <option 1> B. <option 2>' etc)\n",
        "        and the ground truth answer.\n",
        "    \"\"\"\n",
        "    # combine each label with its corresponding text\n",
        "    answer_options_list = list(zip(\n",
        "        example[\"choices\"][\"label\"],\n",
        "        example[\"choices\"][\"text\"]\n",
        "    ))\n",
        "    # join each label and text with . and space\n",
        "    answer_options = \" \".join([f\"{label}. {text}\" for label, text in answer_options_list])\n",
        "    # join the list of options with spaces into single string\n",
        "    answer_options_string = \" \".join(answer_options.split())\n",
        "    # combine question and answer options\n",
        "    input_text = example[\"question\"] + \" \" + answer_options_string\n",
        "    # append the true answer with a new line, \"Answer: \" and the label\n",
        "    input_text += \" \\nAnswer: \" + example[\"answerKey\"]\n",
        "\n",
        "    return input_text\n",
        "\n",
        "# process input texts of train and validation sets\n",
        "massaged_datasets = dataset.map(\n",
        "    lambda example: {\n",
        "        \"text\": massage_input_text(example)\n",
        "    }\n",
        ")\n"
      ]
    },
    {
      "cell_type": "code",
      "execution_count": 9,
      "metadata": {
        "colab": {
          "base_uri": "https://localhost:8080/"
        },
        "id": "sILl3OEoCHuQ",
        "outputId": "ad3720ed-c929-46d9-a065-5234181b0207"
      },
      "outputs": [
        {
          "output_type": "execute_result",
          "data": {
            "text/plain": [
              "{'id': '075e483d21c29a511267ef62bedc0461',\n",
              " 'question': 'The sanctions against the school were a punishing blow, and they seemed to what the efforts the school had made to change?',\n",
              " 'question_concept': 'punishing',\n",
              " 'choices': {'label': ['A', 'B', 'C', 'D', 'E'],\n",
              "  'text': ['ignore', 'enforce', 'authoritarian', 'yell at', 'avoid']},\n",
              " 'answerKey': 'A',\n",
              " 'text': 'The sanctions against the school were a punishing blow, and they seemed to what the efforts the school had made to change? A. ignore B. enforce C. authoritarian D. yell at E. avoid \\nAnswer: A'}"
            ]
          },
          "metadata": {},
          "execution_count": 9
        }
      ],
      "source": [
        "# inspect a sample from our preprocessed data\n",
        "massaged_datasets[\"train\"][0]"
      ]
    },
    {
      "cell_type": "code",
      "execution_count": 10,
      "metadata": {
        "colab": {
          "base_uri": "https://localhost:8080/",
          "height": 49,
          "referenced_widgets": [
            "a7128ce404844618b9a07ab0b741e5ee",
            "3e0fcf7810b54e4fad56a5d333c121b6",
            "a0f4eb8628ff4729b5ea325e2dc9e03e",
            "4d661de44f4b4eba8a2f94f102ad04ec",
            "f90988cf3cbb4cb5afdff9b902878372",
            "78f0f12a8b63448db392882f8f152a05",
            "b0ac0eaec0874bf087429024cd17f0b4",
            "49bf00d0b9eb4c04b0849d2d6fd72804",
            "32ea4010f8aa489583037c395f1b81a8",
            "bccb633dbf424e12809816efca8aceb7",
            "2b89249a64114e5aa9b58c136bfb3955"
          ]
        },
        "id": "v5hMmWhjCHuQ",
        "outputId": "2efab1f2-cc32-45e8-cb8a-6d79cf37c742"
      },
      "outputs": [
        {
          "output_type": "display_data",
          "data": {
            "text/plain": [
              "Map:   0%|          | 0/1221 [00:00<?, ? examples/s]"
            ],
            "application/vnd.jupyter.widget-view+json": {
              "version_major": 2,
              "version_minor": 0,
              "model_id": "a7128ce404844618b9a07ab0b741e5ee"
            }
          },
          "metadata": {}
        }
      ],
      "source": [
        "def tokenize(tokenizer, example):\n",
        "    \"\"\"\n",
        "    Helper for pre-tokenizing all examples.\n",
        "    \"\"\"\n",
        "    tokenized = tokenizer(\n",
        "        example[\"text\"],\n",
        "        # we are fixing the length to 64 tokens to avoid memory issues\n",
        "        max_length=64,\n",
        "        padding=\"max_length\",\n",
        "        truncation=True,\n",
        "        return_tensors=\"pt\",\n",
        "    )\n",
        "    return tokenized\n",
        "\n",
        "tokenized_dataset = massaged_datasets.map(\n",
        "    lambda example: tokenize(tokenizer, example),\n",
        "    batched=True,\n",
        "    remove_columns= massaged_datasets[\"train\"].column_names,\n",
        ")"
      ]
    },
    {
      "cell_type": "code",
      "execution_count": 11,
      "metadata": {
        "colab": {
          "base_uri": "https://localhost:8080/"
        },
        "id": "x9AC5toXCHuQ",
        "outputId": "0a5700c4-8d97-4d05-dd87-02c33b4a0b06"
      },
      "outputs": [
        {
          "output_type": "stream",
          "name": "stdout",
          "text": [
            "Device: cuda\n"
          ]
        }
      ],
      "source": [
        "# move to accelerated device\n",
        "if torch.cuda.is_available():\n",
        "    device = torch.device(\"cuda\")\n",
        "    print(f\"Device: {device}\")\n",
        "elif torch.backends.mps.is_available():\n",
        "    device = torch.device(\"mps\")\n",
        "    print(f\"Device: {device}\")\n",
        "else:\n",
        "    device = torch.device(\"cpu\")\n",
        "    print(f\"Device: {device}\")\n"
      ]
    },
    {
      "cell_type": "code",
      "execution_count": 12,
      "metadata": {
        "colab": {
          "base_uri": "https://localhost:8080/"
        },
        "id": "GxjM909MCHuR",
        "outputId": "6c324b1c-247c-4add-cf73-32f090632fd8"
      },
      "outputs": [
        {
          "output_type": "stream",
          "name": "stdout",
          "text": [
            "Pythia-160m size: 162.3M parameters\n"
          ]
        }
      ],
      "source": [
        "# 2. init model\n",
        "\n",
        "# load pretrained Pythia-160M for HF\n",
        "model = AutoModelForCausalLM.from_pretrained(\"EleutherAI/pythia-160m\")\n",
        "# move model to device\n",
        "model = model.to(device)\n",
        "# print num of trainable parameters\n",
        "model_size = sum(t.numel() for t in model.parameters())\n",
        "print(f\"Pythia-160m size: {model_size/1000**2:.1f}M parameters\")"
      ]
    },
    {
      "cell_type": "markdown",
      "metadata": {
        "id": "OliMHX6pCHuR"
      },
      "source": [
        "Hint: If you run out of memory while trying to run the training, try decreasing the batch size."
      ]
    },
    {
      "cell_type": "code",
      "execution_count": 13,
      "metadata": {
        "id": "gpKB0QUyCHuR"
      },
      "outputs": [],
      "source": [
        "# 3. set up configurations required for the training loop\n",
        "\n",
        "# instantiate tokenized train dataset\n",
        "train_dataset = tokenized_dataset[\"train\"]\n",
        "\n",
        "# instantiate tokenized validation dataset\n",
        "validation_dataset = tokenized_dataset['validation']\n",
        "\n",
        "# instantiate a data collator\n",
        "collate_fn = DataCollatorForLanguageModeling(\n",
        "    tokenizer= tokenizer ,\n",
        "    mlm=False\n",
        ")\n",
        "# create a DataLoader for the dataset\n",
        "# the data loader will automatically batch the data\n",
        "# and iteratively return training examples (question answer pairs) in batches\n",
        "dataloader = DataLoader(\n",
        "    train_dataset,\n",
        "    batch_size=16,\n",
        "    shuffle=True,\n",
        "    collate_fn=collate_fn,\n",
        ")\n",
        "# create a DataLoader for the test dataset\n",
        "# reason for separate data loader is that we want to\n",
        "# be able to use a different index for retreiving the test batches\n",
        "# we might also want to use a different batch size etc.\n",
        "validation_dataloader = DataLoader(\n",
        "    validation_dataset,\n",
        "    batch_size=16,\n",
        "    shuffle=True,\n",
        "    collate_fn=collate_fn\n",
        ")"
      ]
    },
    {
      "cell_type": "code",
      "source": [
        "def custom_loss(inputs):\n",
        "  celoss = torch.nn.CrossEntropyLoss()\n",
        "  modelout = outputs[\"logits\"]\n",
        "  # CELoss expects the input to be of shape (batch_size, num_classes, additional_dims)\n",
        "  # So we want to swap the last two dimensions\n",
        "  modelout = torch.permute(modelout, (0, 2, 1))\n",
        "  # create tensor of EOS ids with shape (batch_size*1)\n",
        "  eos_tensor = torch.unsqueeze(torch.tensor([tokenizer.eos_token_id]*inputs[\"labels\"].shape[0]), 1)\n",
        "  eos_tensor = eos_tensor.to(device)\n",
        "  # exclude first input from target labels\n",
        "  target_out = inputs[\"labels\"][:,1:]\n",
        "  target_out = torch.cat((target_out,eos_tensor), dim=1)\n",
        "  loss = celoss(modelout, target_out)\n",
        "  return (loss, outputs)\n",
        "    #vocab_size = logits.size(-1)\n",
        "    #log_probs = torch.nn.functional.log_softmax(logits, dim=-1)\n",
        "    #labels = labels.view(-1)\n",
        "    #log_probs = log_probs.view(-1, vocab_size)\n",
        "#\n",
        "    #nll_loss = torch.nn.functional.nll_loss(log_probs, labels, reduction='none')\n",
        "    #smooth_loss = -log_probs.mean(dim=-1)\n",
        "    #loss = (1 - epsilon) * nll_loss + epsilon * smooth_loss\n",
        "    #return loss.mean()\n"
      ],
      "metadata": {
        "id": "rsgiK---JZst"
      },
      "execution_count": 57,
      "outputs": []
    },
    {
      "cell_type": "code",
      "source": [
        "x = next(iter(dataloader))\n"
      ],
      "metadata": {
        "id": "ixh1wznYrv5V"
      },
      "execution_count": 78,
      "outputs": []
    },
    {
      "cell_type": "code",
      "source": [
        "for k, v in x.items():\n",
        "    print(k) # dict key\n",
        "    print(v) # values for keys"
      ],
      "metadata": {
        "colab": {
          "base_uri": "https://localhost:8080/"
        },
        "id": "4qYBcFCgtcyV",
        "outputId": "add77cb4-dc26-4f56-9d7a-b72aa0a913bd"
      },
      "execution_count": 119,
      "outputs": [
        {
          "output_type": "stream",
          "name": "stdout",
          "text": [
            "input_ids\n",
            "tensor([[    0,     0,     0,  ..., 32869,    27,   399],\n",
            "        [    0,     0,     0,  ..., 32869,    27,   378],\n",
            "        [    0,     0,     0,  ..., 32869,    27,   330],\n",
            "        ...,\n",
            "        [    0,     0,     0,  ..., 32869,    27,   330],\n",
            "        [    0,     0,     0,  ..., 32869,    27,   329],\n",
            "        [    0,     0,     0,  ..., 32869,    27,   329]], device='cuda:0')\n",
            "attention_mask\n",
            "tensor([[0, 0, 0,  ..., 1, 1, 1],\n",
            "        [0, 0, 0,  ..., 1, 1, 1],\n",
            "        [0, 0, 0,  ..., 1, 1, 1],\n",
            "        ...,\n",
            "        [0, 0, 0,  ..., 1, 1, 1],\n",
            "        [0, 0, 0,  ..., 1, 1, 1],\n",
            "        [0, 0, 0,  ..., 1, 1, 1]], device='cuda:0')\n",
            "labels\n",
            "tensor([[ -100,  -100,  -100,  ..., 32869,    27,   399],\n",
            "        [ -100,  -100,  -100,  ..., 32869,    27,   378],\n",
            "        [ -100,  -100,  -100,  ..., 32869,    27,   330],\n",
            "        ...,\n",
            "        [ -100,  -100,  -100,  ..., 32869,    27,   330],\n",
            "        [ -100,  -100,  -100,  ..., 32869,    27,   329],\n",
            "        [ -100,  -100,  -100,  ..., 32869,    27,   329]], device='cuda:0')\n"
          ]
        }
      ]
    },
    {
      "cell_type": "code",
      "execution_count": 21,
      "metadata": {
        "id": "obkPQKm2CHuR",
        "colab": {
          "base_uri": "https://localhost:8080/"
        },
        "outputId": "aedfebd8-aff4-42bf-f2a6-bb206a290b35"
      },
      "outputs": [
        {
          "output_type": "stream",
          "name": "stdout",
          "text": [
            "Number of training steps:  200\n"
          ]
        },
        {
          "output_type": "stream",
          "name": "stderr",
          "text": [
            "\r  0%|          | 0/200 [00:00<?, ?it/s]"
          ]
        },
        {
          "output_type": "stream",
          "name": "stdout",
          "text": [
            "Epoch 0, step 0, loss 3.7838551998138428\n"
          ]
        },
        {
          "output_type": "stream",
          "name": "stderr",
          "text": [
            "\r  0%|          | 1/200 [00:00<02:34,  1.29it/s]"
          ]
        },
        {
          "output_type": "stream",
          "name": "stdout",
          "text": [
            "Test loss:  10.133772659301759\n"
          ]
        },
        {
          "output_type": "stream",
          "name": "stderr",
          "text": [
            " 50%|█████     | 100/200 [00:29<00:29,  3.41it/s]"
          ]
        },
        {
          "output_type": "stream",
          "name": "stdout",
          "text": [
            "Epoch 0, step 100, loss 3.853119134902954\n"
          ]
        },
        {
          "output_type": "stream",
          "name": "stderr",
          "text": [
            "\r 50%|█████     | 101/200 [00:30<00:43,  2.30it/s]"
          ]
        },
        {
          "output_type": "stream",
          "name": "stdout",
          "text": [
            "Test loss:  3.7999000549316406\n"
          ]
        },
        {
          "output_type": "stream",
          "name": "stderr",
          "text": [
            "100%|██████████| 200/200 [00:58<00:00,  3.41it/s]\n"
          ]
        }
      ],
      "source": [
        "# 4. run the training of the model\n",
        "# Hint: for implementing the forward pass and loss computation, carefully look at the exercise sheets\n",
        "# and the links to examples in HF tutorials.\n",
        "\n",
        "# put the model in training mode\n",
        "model.train()\n",
        "# move the model to the device (e.g. GPU)\n",
        "model = model.to(device)\n",
        "\n",
        "# trianing configutations\n",
        "# feel free to play around with these\n",
        "epochs  = 1\n",
        "train_steps = 200\n",
        "print(\"Number of training steps: \", train_steps)\n",
        "# number of validation steps to perform every 10 training steps\n",
        "# (smaller than the entire validation split for reasons of comp. time)\n",
        "num_test_steps = 5\n",
        "\n",
        "# define optimizer and learning rate\n",
        "optimizer = torch.optim.AdamW(model.parameters(), lr=5e-4)\n",
        "# define some variables to accumulate the losses\n",
        "losses = []\n",
        "validation_losses = []\n",
        "\n",
        "# iterate over epochs\n",
        "for e in range(epochs):\n",
        "    # iterate over training steps\n",
        "    for i in tqdm(range(train_steps)):\n",
        "        # get a batch of data\n",
        "        x = next(iter(dataloader))\n",
        "        # move the data to the device (GPU)\n",
        "        x = {k: v.to(device) for k,v in x.items()}\n",
        "\n",
        "        # forward pass through the model\n",
        "\n",
        "        outputs = model(\n",
        "            input_ids = x[\"input_ids\"],\n",
        "            attention_mask = x[\"attention_mask\"],\n",
        "            labels = x[\"labels\"],\n",
        "            return_dict = True\n",
        "        )\n",
        "        # get the loss\n",
        "        #loss = torch.nn.functional.cross_entropy(outputs.logits.view(-1, outputs.logits.shape[-1]), x.labels.view(-1))\n",
        "        #loss = custom_loss(outputs.logits, x.input_ids)\n",
        "        #loss = custom_loss(outputs.logits)\n",
        "        #modouts= outputs['logits']\n",
        "\n",
        "        #criterion = torch.nn.CrossEntropyLoss()\n",
        "        #loss = criterion(outputs.logits.view(-1, outputs.logits.shape[-1]), x[\"labels\"].view(-1))\n",
        "        loss= outputs.loss\n",
        "        # backward pass\n",
        "        loss.backward()\n",
        "        losses.append(loss.item())\n",
        "        #logits = outputs.logits\n",
        "        #labels = x[\"input_ids\"]\n",
        "        #loss = custom_loss(logits, labels)\n",
        "\n",
        "        # update the parameters of the model\n",
        "        ### YOUR CODE HERE ###\n",
        "        optimizer.step()\n",
        "\n",
        "        # zero out gradient for next step\n",
        "        ### YOUR CODE HERE ####\n",
        "        optimizer.zero_grad()\n",
        "\n",
        "        # evaluate on a few steps of validation set every 10 steps\n",
        "        if i % 100 == 0:\n",
        "            print(f\"Epoch {e}, step {i}, loss {loss.item()}\")\n",
        "            # track test loss for the evaluation iteration\n",
        "            val_loss = 0\n",
        "            for j in range(num_test_steps):\n",
        "                # get test batch\n",
        "                x_test = next(iter(validation_dataloader))\n",
        "                x_test = x_test.to(device)\n",
        "                with torch.no_grad():\n",
        "                    test_outputs = model(\n",
        "                        input_ids=x_test[\"input_ids\"],\n",
        "                        attention_mask=x_test[\"attention_mask\"],\n",
        "                        labels=x_test[\"labels\"]\n",
        "                        ### YOUR CODE HERE ####\n",
        "                    )\n",
        "                     ### YOUR CODE HERE ####\n",
        "                val_loss += test_outputs.loss.item()\n",
        "\n",
        "            validation_losses.append(val_loss / num_test_steps)\n",
        "            print(\"Test loss: \", val_loss/num_test_steps)"
      ]
    },
    {
      "cell_type": "code",
      "execution_count": 22,
      "metadata": {
        "id": "K3zaIorcCHuR",
        "colab": {
          "base_uri": "https://localhost:8080/",
          "height": 466
        },
        "outputId": "be21ad1a-f589-4521-be94-4c8af0734fd4"
      },
      "outputs": [
        {
          "output_type": "execute_result",
          "data": {
            "text/plain": [
              "Text(0, 0.5, 'Loss')"
            ]
          },
          "metadata": {},
          "execution_count": 22
        },
        {
          "output_type": "display_data",
          "data": {
            "text/plain": [
              "<Figure size 640x480 with 1 Axes>"
            ],
            "image/png": "[encoded data removed]"
          },
          "metadata": {}
        }
      ],
      "source": [
        "# 5. Plot the fine-tuning loss and MAKE SURE TO SAVE IT AND SUBMIT IT\n",
        "plt.plot(losses)\n",
        "plt.plot(validation_losses)\n",
        "plt.legend([\"Training loss\", \"Validation loss\"])\n",
        "# plot training losses on x axis\n",
        "plt.plot()\n",
        "plt.xlabel(\"Training steps\")\n",
        "plt.ylabel(\"Loss\")"
      ]
    },
    {
      "cell_type": "code",
      "execution_count": 23,
      "metadata": {
        "id": "9oO3oTk0CHuR",
        "colab": {
          "base_uri": "https://localhost:8080/"
        },
        "outputId": "88ac44e9-ed99-451f-9a78-a52631604c3f"
      },
      "outputs": [
        {
          "output_type": "execute_result",
          "data": {
            "text/plain": [
              "[('A revolving door is convenient for two direction travel, but it also serves as a security measure at a what? A. bank B. library C. department store D. mall E. new york \\nAnswer:',\n",
              "  'A'),\n",
              " ('What do people aim to do at work? A. complete job B. learn from each other C. kill animals D. wear hats E. talk to each other \\nAnswer:',\n",
              "  'A'),\n",
              " ('Where would you find magazines along side many other printed works? A. doctor B. bookstore C. market D. train station E. mortuary \\nAnswer:',\n",
              "  'B'),\n",
              " ('Where are  you likely to find a hamburger? A. fast food restaurant B. pizza C. ground up dead cows D. mouth E. cow carcus \\nAnswer:',\n",
              "  'A'),\n",
              " ('James was looking for a good place to buy farmland.  Where might he look? A. midwest B. countryside C. estate D. farming areas E. illinois \\nAnswer:',\n",
              "  'A'),\n",
              " ('What island country is ferret popular? A. own home B. north carolina C. great britain D. hutch E. outdoors \\nAnswer:',\n",
              "  'C'),\n",
              " (\"In what Spanish speaking North American country can you get a great cup of coffee? A. mildred's coffee shop B. mexico C. diner D. kitchen E. canteen \\nAnswer:\",\n",
              "  'B'),\n",
              " ('What do animals do when an enemy is approaching? A. feel pleasure B. procreate C. pass water D. listen to each other E. sing \\nAnswer:',\n",
              "  'D'),\n",
              " ('Reading newspaper one of many ways to practice your what? A. literacy B. knowing how to read C. money D. buying E. money bank \\nAnswer:',\n",
              "  'A'),\n",
              " ('What do people typically do while playing guitar? A. cry B. hear sounds C. singing D. arthritis E. making music \\nAnswer:',\n",
              "  'C')]"
            ]
          },
          "metadata": {},
          "execution_count": 23
        }
      ],
      "source": [
        "# print a few predictions on the eval dataset to see what the model predicts\n",
        "\n",
        "# construct a list of questions without the ground truth label\n",
        "# and compare prediction of the model with the ground truth\n",
        "\n",
        "def construct_test_samples(example):\n",
        "    \"\"\"\n",
        "    Helper for converting input examples which have\n",
        "    a separate qquestion, labels, answer options\n",
        "    into a single string for testing the model.\n",
        "\n",
        "    Arguments\n",
        "    ---------\n",
        "    example: dict\n",
        "        Sample input from the dataset which contains the\n",
        "        question, answer labels (e.g. A, B, C, D),\n",
        "        the answer options for the question, and which\n",
        "        of the answers is correct.\n",
        "\n",
        "    Returns\n",
        "    -------\n",
        "    input_text: str, str\n",
        "        Tuple: Formatted test text which contains the question,\n",
        "        the forwatted answer options (e.g., 'A. <option 1> B. <option 2>' etc);\n",
        "        the ground truth answer label only.\n",
        "    \"\"\"\n",
        "\n",
        "    answer_options_list = list(zip(\n",
        "        example[\"choices\"][\"label\"],\n",
        "        example[\"choices\"][\"text\"]\n",
        "    ))\n",
        "    # join each label and text with . and space\n",
        "    answer_options = [f\"{label}. {text}\" for label, text in answer_options_list] ### YOUR CODE HERE ####\n",
        "    # join the list of options with spaces into single string\n",
        "    answer_options_string =\" \".join(answer_options) ### YOUR CODE HERE ####\n",
        "    # combine question and answer options\n",
        "    input_text = example[\"question\"] + \" \" + answer_options_string\n",
        "    # create the test input text which should be:\n",
        "    # the input text, followed by the string \"Answer: \"\n",
        "    # we don't need to append the ground truth answer since we are creating test inputs\n",
        "    # and the answer should be predicted.\n",
        "    input_text += \" \" + \"\\nAnswer:\" ### YOUR CODE HERE ####\n",
        "\n",
        "    return input_text, example[\"answerKey\"]\n",
        "\n",
        "test_samples = [construct_test_samples(dataset[\"validation\"][i]) for i in range(10)]\n",
        "test_samples"
      ]
    },
    {
      "cell_type": "code",
      "execution_count": 24,
      "metadata": {
        "id": "npb6tO86CHuR",
        "colab": {
          "base_uri": "https://localhost:8080/"
        },
        "outputId": "969d150c-f535-4707-e2cd-354595ce8c52"
      },
      "outputs": [
        {
          "output_type": "stream",
          "name": "stderr",
          "text": [
            "Setting `pad_token_id` to `eos_token_id`:0 for open-end generation.\n",
            "Setting `pad_token_id` to `eos_token_id`:0 for open-end generation.\n",
            "Setting `pad_token_id` to `eos_token_id`:0 for open-end generation.\n",
            "Setting `pad_token_id` to `eos_token_id`:0 for open-end generation.\n",
            "Setting `pad_token_id` to `eos_token_id`:0 for open-end generation.\n",
            "Setting `pad_token_id` to `eos_token_id`:0 for open-end generation.\n",
            "Setting `pad_token_id` to `eos_token_id`:0 for open-end generation.\n",
            "Setting `pad_token_id` to `eos_token_id`:0 for open-end generation.\n",
            "Setting `pad_token_id` to `eos_token_id`:0 for open-end generation.\n",
            "Setting `pad_token_id` to `eos_token_id`:0 for open-end generation.\n"
          ]
        },
        {
          "output_type": "stream",
          "name": "stdout",
          "text": [
            "Predictions of trained model  [('A revolving door is convenient for two direction travel, but it also serves as a security measure at a what? A. bank B. library C. department store D. mall E. new york \\nAnswer:', 'A revolving door is convenient for two direction travel, but it also serves as a security measure at a what? A. bank B. library C. department store D. mall E. new york \\nAnswer: A.', 'A'), ('What do people aim to do at work? A. complete job B. learn from each other C. kill animals D. wear hats E. talk to each other \\nAnswer:', 'What do people aim to do at work? A. complete job B. learn from each other C. kill animals D. wear hats E. talk to each other \\nAnswer: B.', 'A'), ('Where would you find magazines along side many other printed works? A. doctor B. bookstore C. market D. train station E. mortuary \\nAnswer:', 'Where would you find magazines along side many other printed works? A. doctor B. bookstore C. market D. train station E. mortuary \\nAnswer: B.', 'B'), ('Where are  you likely to find a hamburger? A. fast food restaurant B. pizza C. ground up dead cows D. mouth E. cow carcus \\nAnswer:', 'Where are  you likely to find a hamburger? A. fast food restaurant B. pizza C. ground up dead cows D. mouth E. cow carcus \\nAnswer: B.', 'A'), ('James was looking for a good place to buy farmland.  Where might he look? A. midwest B. countryside C. estate D. farming areas E. illinois \\nAnswer:', 'James was looking for a good place to buy farmland.  Where might he look? A. midwest B. countryside C. estate D. farming areas E. illinois \\nAnswer: A.', 'A'), ('What island country is ferret popular? A. own home B. north carolina C. great britain D. hutch E. outdoors \\nAnswer:', 'What island country is ferret popular? A. own home B. north carolina C. great britain D. hutch E. outdoors \\nAnswer: B.', 'C'), (\"In what Spanish speaking North American country can you get a great cup of coffee? A. mildred's coffee shop B. mexico C. diner D. kitchen E. canteen \\nAnswer:\", \"In what Spanish speaking North American country can you get a great cup of coffee? A. mildred's coffee shop B. mexico C. diner D. kitchen E. canteen \\nAnswer: B.\", 'B'), ('What do animals do when an enemy is approaching? A. feel pleasure B. procreate C. pass water D. listen to each other E. sing \\nAnswer:', 'What do animals do when an enemy is approaching? A. feel pleasure B. procreate C. pass water D. listen to each other E. sing \\nAnswer: A.', 'D'), ('Reading newspaper one of many ways to practice your what? A. literacy B. knowing how to read C. money D. buying E. money bank \\nAnswer:', 'Reading newspaper one of many ways to practice your what? A. literacy B. knowing how to read C. money D. buying E. money bank \\nAnswer: A.', 'A'), ('What do people typically do while playing guitar? A. cry B. hear sounds C. singing D. arthritis E. making music \\nAnswer:', 'What do people typically do while playing guitar? A. cry B. hear sounds C. singing D. arthritis E. making music \\nAnswer: A.', 'C')]\n"
          ]
        }
      ],
      "source": [
        "# Test the model\n",
        "\n",
        "# set it to evaluation mode\n",
        "model.eval()\n",
        "\n",
        "predictions = []\n",
        "for sample in test_samples:\n",
        "    input_text = sample[0]\n",
        "    input_ids = tokenizer(input_text, return_tensors=\"pt\").to(device)\n",
        "    output = model.generate(\n",
        "        input_ids.input_ids,\n",
        "        attention_mask = input_ids.attention_mask,\n",
        "        max_new_tokens=2,\n",
        "        do_sample=True,\n",
        "        temperature=0.4,\n",
        "    )\n",
        "    prediction = tokenizer.decode(output[0], skip_special_tokens=True)\n",
        "    predictions.append((input_text, prediction, sample[1]))\n",
        "\n",
        "print(\"Predictions of trained model \", predictions)"
      ]
    },
    {
      "cell_type": "code",
      "source": [
        "len(predictions)"
      ],
      "metadata": {
        "colab": {
          "base_uri": "https://localhost:8080/"
        },
        "id": "ankIENZb8Aw0",
        "outputId": "db84eeb8-5239-428a-b84c-d42231259e90"
      },
      "execution_count": 123,
      "outputs": [
        {
          "output_type": "execute_result",
          "data": {
            "text/plain": [
              "10"
            ]
          },
          "metadata": {},
          "execution_count": 123
        }
      ]
    },
    {
      "cell_type": "code",
      "source": [
        "predictions"
      ],
      "metadata": {
        "colab": {
          "base_uri": "https://localhost:8080/"
        },
        "id": "W14vjFfh8Jek",
        "outputId": "2dc91ba2-4972-48d6-a988-c8ddc8937d69"
      },
      "execution_count": 139,
      "outputs": [
        {
          "output_type": "execute_result",
          "data": {
            "text/plain": [
              "[('A revolving door is convenient for two direction travel, but it also serves as a security measure at a what? A. bank B. library C. department store D. mall E. new york \\nAnswer:',\n",
              "  'A revolving door is convenient for two direction travel, but it also serves as a security measure at a what? A. bank B. library C. department store D. mall E. new york \\nAnswer: B.',\n",
              "  'A'),\n",
              " ('What do people aim to do at work? A. complete job B. learn from each other C. kill animals D. wear hats E. talk to each other \\nAnswer:',\n",
              "  'What do people aim to do at work? A. complete job B. learn from each other C. kill animals D. wear hats E. talk to each other \\nAnswer: B.',\n",
              "  'A'),\n",
              " ('Where would you find magazines along side many other printed works? A. doctor B. bookstore C. market D. train station E. mortuary \\nAnswer:',\n",
              "  'Where would you find magazines along side many other printed works? A. doctor B. bookstore C. market D. train station E. mortuary \\nAnswer: D.',\n",
              "  'B'),\n",
              " ('Where are  you likely to find a hamburger? A. fast food restaurant B. pizza C. ground up dead cows D. mouth E. cow carcus \\nAnswer:',\n",
              "  'Where are  you likely to find a hamburger? A. fast food restaurant B. pizza C. ground up dead cows D. mouth E. cow carcus \\nAnswer: C.',\n",
              "  'A'),\n",
              " ('James was looking for a good place to buy farmland.  Where might he look? A. midwest B. countryside C. estate D. farming areas E. illinois \\nAnswer:',\n",
              "  'James was looking for a good place to buy farmland.  Where might he look? A. midwest B. countryside C. estate D. farming areas E. illinois \\nAnswer: E.',\n",
              "  'A'),\n",
              " ('What island country is ferret popular? A. own home B. north carolina C. great britain D. hutch E. outdoors \\nAnswer:',\n",
              "  'What island country is ferret popular? A. own home B. north carolina C. great britain D. hutch E. outdoors \\nAnswer: D.',\n",
              "  'C'),\n",
              " (\"In what Spanish speaking North American country can you get a great cup of coffee? A. mildred's coffee shop B. mexico C. diner D. kitchen E. canteen \\nAnswer:\",\n",
              "  \"In what Spanish speaking North American country can you get a great cup of coffee? A. mildred's coffee shop B. mexico C. diner D. kitchen E. canteen \\nAnswer: B.\",\n",
              "  'B'),\n",
              " ('What do animals do when an enemy is approaching? A. feel pleasure B. procreate C. pass water D. listen to each other E. sing \\nAnswer:',\n",
              "  'What do animals do when an enemy is approaching? A. feel pleasure B. procreate C. pass water D. listen to each other E. sing \\nAnswer: D.',\n",
              "  'D'),\n",
              " ('Reading newspaper one of many ways to practice your what? A. literacy B. knowing how to read C. money D. buying E. money bank \\nAnswer:',\n",
              "  'Reading newspaper one of many ways to practice your what? A. literacy B. knowing how to read C. money D. buying E. money bank \\nAnswer: B.',\n",
              "  'A'),\n",
              " ('What do people typically do while playing guitar? A. cry B. hear sounds C. singing D. arthritis E. making music \\nAnswer:',\n",
              "  'What do people typically do while playing guitar? A. cry B. hear sounds C. singing D. arthritis E. making music \\nAnswer: D.',\n",
              "  'C')]"
            ]
          },
          "metadata": {},
          "execution_count": 139
        }
      ]
    },
    {
      "cell_type": "code",
      "source": [
        "# test model accuracy\n",
        "correct_predictions = 0\n",
        "for input_text, prediction, ground_truth in predictions:\n",
        "    # Extract the predicted answer label (e.g., 'A', 'B', etc.)\n",
        "    predicted_answer = prediction.split(\"Answer:\")[-1].strip()\n",
        "    predicted_answer = predicted_answer.replace(\".\", \"\").strip()\n",
        "    ground_truth = ground_truth.replace(\".\", \"\").strip()\n",
        "    print(f\"model:{predicted_answer}\",\"|\",f\"truth:{ground_truth}\")\n",
        "    if predicted_answer == ground_truth:\n",
        "        correct_predictions += 1\n",
        "\n",
        "accuracy = correct_predictions / len(predictions)\n",
        "print(f\"Accuracy: {accuracy}\")"
      ],
      "metadata": {
        "colab": {
          "base_uri": "https://localhost:8080/"
        },
        "id": "wYNe-NnL6u-O",
        "outputId": "22153c5c-56e5-41e8-b935-2d8df2055453"
      },
      "execution_count": 31,
      "outputs": [
        {
          "output_type": "stream",
          "name": "stdout",
          "text": [
            "model:A | truth:A\n",
            "model:B | truth:A\n",
            "model:B | truth:B\n",
            "model:B | truth:A\n",
            "model:A | truth:A\n",
            "model:B | truth:C\n",
            "model:B | truth:B\n",
            "model:A | truth:D\n",
            "model:A | truth:A\n",
            "model:A | truth:C\n",
            "Accuracy: 0.5\n"
          ]
        }
      ]
    },
    {
      "cell_type": "markdown",
      "metadata": {
        "id": "01ZEwGijCHuR"
      },
      "source": [
        "Questions:\n",
        "> 1. Provide a brief description of the CommonsenseQA dataset. What kind of task was it developed for, what do the single columns contain?\n",
        "> 2. What loss function is computed for this training? Provide the name of the function (conceptual, not necessarily the name of a function in the code).\n",
        "> 3. Given your loss curve, do you think your model will perform well on answering common sense questions? (Note: there is no single right answer; you need to interpret your specific plot)\n",
        "> 4. Inspect the predictions above. On how many test questions did the model predict the right answer? Compute the accuracy."
      ]
    },
    {
      "cell_type": "markdown",
      "metadata": {
        "id": "WBT-k0TdCHuR"
      },
      "source": []
    }
  ],
  "metadata": {
    "kernelspec": {
      "display_name": "Python 3",
      "name": "python3"
    },
    "language_info": {
      "codemirror_mode": {
        "name": "ipython",
        "version": 3
      },
      "file_extension": ".py",
      "mimetype": "text/x-python",
      "name": "python",
      "nbconvert_exporter": "python",
      "pygments_lexer": "ipython3",
      "version": "3.10.14"
    },
    "colab": {
      "provenance": [],
      "gpuType": "T4",
      "include_colab_link": true
    },
    "accelerator": "GPU",
    "widgets": {
      "application/vnd.jupyter.widget-state+json": {
        "a7128ce404844618b9a07ab0b741e5ee": {
          "model_module": "@jupyter-widgets/controls",
          "model_name": "HBoxModel",
          "model_module_version": "1.5.0",
          "state": {
            "_dom_classes": [],
            "_model_module": "@jupyter-widgets/controls",
            "_model_module_version": "1.5.0",
            "_model_name": "HBoxModel",
            "_view_count": null,
            "_view_module": "@jupyter-widgets/controls",
            "_view_module_version": "1.5.0",
            "_view_name": "HBoxView",
            "box_style": "",
            "children": [
              "IPY_MODEL_3e0fcf7810b54e4fad56a5d333c121b6",
              "IPY_MODEL_a0f4eb8628ff4729b5ea325e2dc9e03e",
              "IPY_MODEL_4d661de44f4b4eba8a2f94f102ad04ec"
            ],
            "layout": "IPY_MODEL_f90988cf3cbb4cb5afdff9b902878372"
          }
        },
        "3e0fcf7810b54e4fad56a5d333c121b6": {
          "model_module": "@jupyter-widgets/controls",
          "model_name": "HTMLModel",
          "model_module_version": "1.5.0",
          "state": {
            "_dom_classes": [],
            "_model_module": "@jupyter-widgets/controls",
            "_model_module_version": "1.5.0",
            "_model_name": "HTMLModel",
            "_view_count": null,
            "_view_module": "@jupyter-widgets/controls",
            "_view_module_version": "1.5.0",
            "_view_name": "HTMLView",
            "description": "",
            "description_tooltip": null,
            "layout": "IPY_MODEL_78f0f12a8b63448db392882f8f152a05",
            "placeholder": "​",
            "style": "IPY_MODEL_b0ac0eaec0874bf087429024cd17f0b4",
            "value": "Map: 100%"
          }
        },
        "a0f4eb8628ff4729b5ea325e2dc9e03e": {
          "model_module": "@jupyter-widgets/controls",
          "model_name": "FloatProgressModel",
          "model_module_version": "1.5.0",
          "state": {
            "_dom_classes": [],
            "_model_module": "@jupyter-widgets/controls",
            "_model_module_version": "1.5.0",
            "_model_name": "FloatProgressModel",
            "_view_count": null,
            "_view_module": "@jupyter-widgets/controls",
            "_view_module_version": "1.5.0",
            "_view_name": "ProgressView",
            "bar_style": "success",
            "description": "",
            "description_tooltip": null,
            "layout": "IPY_MODEL_49bf00d0b9eb4c04b0849d2d6fd72804",
            "max": 1221,
            "min": 0,
            "orientation": "horizontal",
            "style": "IPY_MODEL_32ea4010f8aa489583037c395f1b81a8",
            "value": 1221
          }
        },
        "4d661de44f4b4eba8a2f94f102ad04ec": {
          "model_module": "@jupyter-widgets/controls",
          "model_name": "HTMLModel",
          "model_module_version": "1.5.0",
          "state": {
            "_dom_classes": [],
            "_model_module": "@jupyter-widgets/controls",
            "_model_module_version": "1.5.0",
            "_model_name": "HTMLModel",
            "_view_count": null,
            "_view_module": "@jupyter-widgets/controls",
            "_view_module_version": "1.5.0",
            "_view_name": "HTMLView",
            "description": "",
            "description_tooltip": null,
            "layout": "IPY_MODEL_bccb633dbf424e12809816efca8aceb7",
            "placeholder": "​",
            "style": "IPY_MODEL_2b89249a64114e5aa9b58c136bfb3955",
            "value": " 1221/1221 [00:00&lt;00:00, 5146.01 examples/s]"
          }
        },
        "f90988cf3cbb4cb5afdff9b902878372": {
          "model_module": "@jupyter-widgets/base",
          "model_name": "LayoutModel",
          "model_module_version": "1.2.0",
          "state": {
            "_model_module": "@jupyter-widgets/base",
            "_model_module_version": "1.2.0",
            "_model_name": "LayoutModel",
            "_view_count": null,
            "_view_module": "@jupyter-widgets/base",
            "_view_module_version": "1.2.0",
            "_view_name": "LayoutView",
            "align_content": null,
            "align_items": null,
            "align_self": null,
            "border": null,
            "bottom": null,
            "display": null,
            "flex": null,
            "flex_flow": null,
            "grid_area": null,
            "grid_auto_columns": null,
            "grid_auto_flow": null,
            "grid_auto_rows": null,
            "grid_column": null,
            "grid_gap": null,
            "grid_row": null,
            "grid_template_areas": null,
            "grid_template_columns": null,
            "grid_template_rows": null,
            "height": null,
            "justify_content": null,
            "justify_items": null,
            "left": null,
            "margin": null,
            "max_height": null,
            "max_width": null,
            "min_height": null,
            "min_width": null,
            "object_fit": null,
            "object_position": null,
            "order": null,
            "overflow": null,
            "overflow_x": null,
            "overflow_y": null,
            "padding": null,
            "right": null,
            "top": null,
            "visibility": null,
            "width": null
          }
        },
        "78f0f12a8b63448db392882f8f152a05": {
          "model_module": "@jupyter-widgets/base",
          "model_name": "LayoutModel",
          "model_module_version": "1.2.0",
          "state": {
            "_model_module": "@jupyter-widgets/base",
            "_model_module_version": "1.2.0",
            "_model_name": "LayoutModel",
            "_view_count": null,
            "_view_module": "@jupyter-widgets/base",
            "_view_module_version": "1.2.0",
            "_view_name": "LayoutView",
            "align_content": null,
            "align_items": null,
            "align_self": null,
            "border": null,
            "bottom": null,
            "display": null,
            "flex": null,
            "flex_flow": null,
            "grid_area": null,
            "grid_auto_columns": null,
            "grid_auto_flow": null,
            "grid_auto_rows": null,
            "grid_column": null,
            "grid_gap": null,
            "grid_row": null,
            "grid_template_areas": null,
            "grid_template_columns": null,
            "grid_template_rows": null,
            "height": null,
            "justify_content": null,
            "justify_items": null,
            "left": null,
            "margin": null,
            "max_height": null,
            "max_width": null,
            "min_height": null,
            "min_width": null,
            "object_fit": null,
            "object_position": null,
            "order": null,
            "overflow": null,
            "overflow_x": null,
            "overflow_y": null,
            "padding": null,
            "right": null,
            "top": null,
            "visibility": null,
            "width": null
          }
        },
        "b0ac0eaec0874bf087429024cd17f0b4": {
          "model_module": "@jupyter-widgets/controls",
          "model_name": "DescriptionStyleModel",
          "model_module_version": "1.5.0",
          "state": {
            "_model_module": "@jupyter-widgets/controls",
            "_model_module_version": "1.5.0",
            "_model_name": "DescriptionStyleModel",
            "_view_count": null,
            "_view_module": "@jupyter-widgets/base",
            "_view_module_version": "1.2.0",
            "_view_name": "StyleView",
            "description_width": ""
          }
        },
        "49bf00d0b9eb4c04b0849d2d6fd72804": {
          "model_module": "@jupyter-widgets/base",
          "model_name": "LayoutModel",
          "model_module_version": "1.2.0",
          "state": {
            "_model_module": "@jupyter-widgets/base",
            "_model_module_version": "1.2.0",
            "_model_name": "LayoutModel",
            "_view_count": null,
            "_view_module": "@jupyter-widgets/base",
            "_view_module_version": "1.2.0",
            "_view_name": "LayoutView",
            "align_content": null,
            "align_items": null,
            "align_self": null,
            "border": null,
            "bottom": null,
            "display": null,
            "flex": null,
            "flex_flow": null,
            "grid_area": null,
            "grid_auto_columns": null,
            "grid_auto_flow": null,
            "grid_auto_rows": null,
            "grid_column": null,
            "grid_gap": null,
            "grid_row": null,
            "grid_template_areas": null,
            "grid_template_columns": null,
            "grid_template_rows": null,
            "height": null,
            "justify_content": null,
            "justify_items": null,
            "left": null,
            "margin": null,
            "max_height": null,
            "max_width": null,
            "min_height": null,
            "min_width": null,
            "object_fit": null,
            "object_position": null,
            "order": null,
            "overflow": null,
            "overflow_x": null,
            "overflow_y": null,
            "padding": null,
            "right": null,
            "top": null,
            "visibility": null,
            "width": null
          }
        },
        "32ea4010f8aa489583037c395f1b81a8": {
          "model_module": "@jupyter-widgets/controls",
          "model_name": "ProgressStyleModel",
          "model_module_version": "1.5.0",
          "state": {
            "_model_module": "@jupyter-widgets/controls",
            "_model_module_version": "1.5.0",
            "_model_name": "ProgressStyleModel",
            "_view_count": null,
            "_view_module": "@jupyter-widgets/base",
            "_view_module_version": "1.2.0",
            "_view_name": "StyleView",
            "bar_color": null,
            "description_width": ""
          }
        },
        "bccb633dbf424e12809816efca8aceb7": {
          "model_module": "@jupyter-widgets/base",
          "model_name": "LayoutModel",
          "model_module_version": "1.2.0",
          "state": {
            "_model_module": "@jupyter-widgets/base",
            "_model_module_version": "1.2.0",
            "_model_name": "LayoutModel",
            "_view_count": null,
            "_view_module": "@jupyter-widgets/base",
            "_view_module_version": "1.2.0",
            "_view_name": "LayoutView",
            "align_content": null,
            "align_items": null,
            "align_self": null,
            "border": null,
            "bottom": null,
            "display": null,
            "flex": null,
            "flex_flow": null,
            "grid_area": null,
            "grid_auto_columns": null,
            "grid_auto_flow": null,
            "grid_auto_rows": null,
            "grid_column": null,
            "grid_gap": null,
            "grid_row": null,
            "grid_template_areas": null,
            "grid_template_columns": null,
            "grid_template_rows": null,
            "height": null,
            "justify_content": null,
            "justify_items": null,
            "left": null,
            "margin": null,
            "max_height": null,
            "max_width": null,
            "min_height": null,
            "min_width": null,
            "object_fit": null,
            "object_position": null,
            "order": null,
            "overflow": null,
            "overflow_x": null,
            "overflow_y": null,
            "padding": null,
            "right": null,
            "top": null,
            "visibility": null,
            "width": null
          }
        },
        "2b89249a64114e5aa9b58c136bfb3955": {
          "model_module": "@jupyter-widgets/controls",
          "model_name": "DescriptionStyleModel",
          "model_module_version": "1.5.0",
          "state": {
            "_model_module": "@jupyter-widgets/controls",
            "_model_module_version": "1.5.0",
            "_model_name": "DescriptionStyleModel",
            "_view_count": null,
            "_view_module": "@jupyter-widgets/base",
            "_view_module_version": "1.2.0",
            "_view_name": "StyleView",
            "description_width": ""
          }
        }
      }
    }
  },
  "nbformat": 4,
  "nbformat_minor": 0
}